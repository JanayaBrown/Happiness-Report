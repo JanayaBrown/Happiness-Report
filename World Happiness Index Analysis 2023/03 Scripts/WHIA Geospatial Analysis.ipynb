{
 "cells": [
  {
   "cell_type": "markdown",
   "id": "84539356",
   "metadata": {},
   "source": [
    "# Importing Libraries and Data"
   ]
  },
  {
   "cell_type": "code",
   "execution_count": 1,
   "id": "5b62ea2f",
   "metadata": {},
   "outputs": [],
   "source": [
    "# importing libaraies\n",
    "import pandas as pd\n",
    "import numpy as np\n",
    "import os\n",
    "import seaborn as sns\n",
    "import matplotlib.pyplot as plt\n",
    "import matplotlib\n",
    "import folium\n",
    "import json\n",
    "import geopandas as gpd"
   ]
  },
  {
   "cell_type": "code",
   "execution_count": 2,
   "id": "7eb0f5aa",
   "metadata": {},
   "outputs": [],
   "source": [
    "# creating main path\n",
    "path = r'C:\\Users\\muffi\\OneDrive\\CareerFoundry\\World Happiness Index Analysis 2023'"
   ]
  },
  {
   "cell_type": "code",
   "execution_count": 3,
   "id": "d821790a",
   "metadata": {},
   "outputs": [
    {
     "data": {
      "text/plain": [
       "(781, 11)"
      ]
     },
     "execution_count": 3,
     "metadata": {},
     "output_type": "execute_result"
    }
   ],
   "source": [
    "# importing WHI data \n",
    "df_all_clean = pd.read_csv(os.path.join(path, '02 Data', 'Prepared Data', 'all_years_cleaned.csv'))\n",
    "df_all_clean.shape"
   ]
  },
  {
   "cell_type": "code",
   "execution_count": 4,
   "id": "a789e529",
   "metadata": {},
   "outputs": [],
   "source": [
    "# importing geospatial data\n",
    "country_geo = r'C:\\Users\\muffi\\OneDrive\\CareerFoundry\\World Happiness Index Analysis 2023\\02 Data\\Original Data\\countries.geojson'\n"
   ]
  },
  {
   "cell_type": "code",
   "execution_count": 5,
   "id": "b0ab4628",
   "metadata": {},
   "outputs": [],
   "source": [
    "# matplotlib visuals to appear in the notebook \n",
    "%matplotlib inline"
   ]
  },
  {
   "cell_type": "code",
   "execution_count": 6,
   "id": "16b88630",
   "metadata": {},
   "outputs": [],
   "source": [
    "# showing more rows\n",
    "pd.set_option('display.max_rows', 500)"
   ]
  },
  {
   "cell_type": "markdown",
   "id": "5cf2ea0b",
   "metadata": {},
   "source": [
    "# Happiness Score Choropleth"
   ]
  },
  {
   "cell_type": "code",
   "execution_count": 7,
   "id": "1b9881b4",
   "metadata": {},
   "outputs": [
    {
     "data": {
      "text/html": [
       "<div>\n",
       "<style scoped>\n",
       "    .dataframe tbody tr th:only-of-type {\n",
       "        vertical-align: middle;\n",
       "    }\n",
       "\n",
       "    .dataframe tbody tr th {\n",
       "        vertical-align: top;\n",
       "    }\n",
       "\n",
       "    .dataframe thead th {\n",
       "        text-align: right;\n",
       "    }\n",
       "</style>\n",
       "<table border=\"1\" class=\"dataframe\">\n",
       "  <thead>\n",
       "    <tr style=\"text-align: right;\">\n",
       "      <th></th>\n",
       "      <th>Unnamed: 0</th>\n",
       "      <th>location</th>\n",
       "      <th>rank</th>\n",
       "      <th>happiness_score</th>\n",
       "      <th>gdp_per_capita</th>\n",
       "      <th>social_support</th>\n",
       "      <th>life_expectancy</th>\n",
       "      <th>freedom</th>\n",
       "      <th>trust_in_government</th>\n",
       "      <th>generosity</th>\n",
       "      <th>year</th>\n",
       "    </tr>\n",
       "  </thead>\n",
       "  <tbody>\n",
       "    <tr>\n",
       "      <th>0</th>\n",
       "      <td>0</td>\n",
       "      <td>Switzerland</td>\n",
       "      <td>1</td>\n",
       "      <td>7.587</td>\n",
       "      <td>1.39651</td>\n",
       "      <td>1.34951</td>\n",
       "      <td>0.94143</td>\n",
       "      <td>0.66557</td>\n",
       "      <td>0.41978</td>\n",
       "      <td>0.29678</td>\n",
       "      <td>2015</td>\n",
       "    </tr>\n",
       "    <tr>\n",
       "      <th>1</th>\n",
       "      <td>1</td>\n",
       "      <td>Iceland</td>\n",
       "      <td>2</td>\n",
       "      <td>7.561</td>\n",
       "      <td>1.30232</td>\n",
       "      <td>1.40223</td>\n",
       "      <td>0.94784</td>\n",
       "      <td>0.62877</td>\n",
       "      <td>0.14145</td>\n",
       "      <td>0.43630</td>\n",
       "      <td>2015</td>\n",
       "    </tr>\n",
       "    <tr>\n",
       "      <th>2</th>\n",
       "      <td>2</td>\n",
       "      <td>Denmark</td>\n",
       "      <td>3</td>\n",
       "      <td>7.527</td>\n",
       "      <td>1.32548</td>\n",
       "      <td>1.36058</td>\n",
       "      <td>0.87464</td>\n",
       "      <td>0.64938</td>\n",
       "      <td>0.48357</td>\n",
       "      <td>0.34139</td>\n",
       "      <td>2015</td>\n",
       "    </tr>\n",
       "    <tr>\n",
       "      <th>3</th>\n",
       "      <td>3</td>\n",
       "      <td>Norway</td>\n",
       "      <td>4</td>\n",
       "      <td>7.522</td>\n",
       "      <td>1.45900</td>\n",
       "      <td>1.33095</td>\n",
       "      <td>0.88521</td>\n",
       "      <td>0.66973</td>\n",
       "      <td>0.36503</td>\n",
       "      <td>0.34699</td>\n",
       "      <td>2015</td>\n",
       "    </tr>\n",
       "    <tr>\n",
       "      <th>4</th>\n",
       "      <td>4</td>\n",
       "      <td>Canada</td>\n",
       "      <td>5</td>\n",
       "      <td>7.427</td>\n",
       "      <td>1.32629</td>\n",
       "      <td>1.32261</td>\n",
       "      <td>0.90563</td>\n",
       "      <td>0.63297</td>\n",
       "      <td>0.32957</td>\n",
       "      <td>0.45811</td>\n",
       "      <td>2015</td>\n",
       "    </tr>\n",
       "  </tbody>\n",
       "</table>\n",
       "</div>"
      ],
      "text/plain": [
       "   Unnamed: 0     location  rank  happiness_score  gdp_per_capita  \\\n",
       "0           0  Switzerland     1            7.587         1.39651   \n",
       "1           1      Iceland     2            7.561         1.30232   \n",
       "2           2      Denmark     3            7.527         1.32548   \n",
       "3           3       Norway     4            7.522         1.45900   \n",
       "4           4       Canada     5            7.427         1.32629   \n",
       "\n",
       "   social_support  life_expectancy  freedom  trust_in_government  generosity  \\\n",
       "0         1.34951          0.94143  0.66557              0.41978     0.29678   \n",
       "1         1.40223          0.94784  0.62877              0.14145     0.43630   \n",
       "2         1.36058          0.87464  0.64938              0.48357     0.34139   \n",
       "3         1.33095          0.88521  0.66973              0.36503     0.34699   \n",
       "4         1.32261          0.90563  0.63297              0.32957     0.45811   \n",
       "\n",
       "   year  \n",
       "0  2015  \n",
       "1  2015  \n",
       "2  2015  \n",
       "3  2015  \n",
       "4  2015  "
      ]
     },
     "execution_count": 7,
     "metadata": {},
     "output_type": "execute_result"
    }
   ],
   "source": [
    "# checking the cols\n",
    "df_all_clean.head()"
   ]
  },
  {
   "cell_type": "code",
   "execution_count": 8,
   "id": "31fa25e3",
   "metadata": {},
   "outputs": [],
   "source": [
    "# creating a subset df of data to plot\n",
    "happy_region = df_all_clean[['happiness_score', 'location']]"
   ]
  },
  {
   "cell_type": "code",
   "execution_count": 9,
   "id": "517f44f9",
   "metadata": {},
   "outputs": [
    {
     "ename": "TypeError",
     "evalue": "ufunc 'isnan' not supported for the input types, and the inputs could not be safely coerced to any supported types according to the casting rule ''safe''",
     "output_type": "error",
     "traceback": [
      "\u001b[1;31m---------------------------------------------------------------------------\u001b[0m",
      "\u001b[1;31mTypeError\u001b[0m                                 Traceback (most recent call last)",
      "\u001b[1;32m~\\AppData\\Local\\Temp\\ipykernel_27140\\1323428023.py\u001b[0m in \u001b[0;36m<module>\u001b[1;34m\u001b[0m\n\u001b[0;32m      1\u001b[0m \u001b[0mmap\u001b[0m \u001b[1;33m=\u001b[0m \u001b[0mfolium\u001b[0m\u001b[1;33m.\u001b[0m\u001b[0mMap\u001b[0m\u001b[1;33m(\u001b[0m\u001b[0mlocation\u001b[0m \u001b[1;33m=\u001b[0m \u001b[1;33m[\u001b[0m\u001b[1;36m40\u001b[0m\u001b[1;33m,\u001b[0m \u001b[1;33m-\u001b[0m\u001b[1;36m95\u001b[0m\u001b[1;33m]\u001b[0m\u001b[1;33m,\u001b[0m \u001b[0mzoom_start\u001b[0m \u001b[1;33m=\u001b[0m \u001b[1;36m4\u001b[0m\u001b[1;33m)\u001b[0m\u001b[1;33m\u001b[0m\u001b[1;33m\u001b[0m\u001b[0m\n\u001b[0;32m      2\u001b[0m \u001b[1;33m\u001b[0m\u001b[0m\n\u001b[1;32m----> 3\u001b[1;33m folium.Choropleth(\n\u001b[0m\u001b[0;32m      4\u001b[0m     \u001b[0mgeo_data\u001b[0m \u001b[1;33m=\u001b[0m \u001b[0mcountry_geo\u001b[0m\u001b[1;33m,\u001b[0m\u001b[1;33m\u001b[0m\u001b[1;33m\u001b[0m\u001b[0m\n\u001b[0;32m      5\u001b[0m     \u001b[0mdata\u001b[0m \u001b[1;33m=\u001b[0m \u001b[0mhappy_region\u001b[0m\u001b[1;33m,\u001b[0m\u001b[1;33m\u001b[0m\u001b[1;33m\u001b[0m\u001b[0m\n",
      "\u001b[1;32m~\\anaconda3\\lib\\site-packages\\folium\\features.py\u001b[0m in \u001b[0;36m__init__\u001b[1;34m(self, geo_data, data, columns, key_on, bins, fill_color, nan_fill_color, fill_opacity, nan_fill_opacity, line_color, line_weight, line_opacity, name, legend_name, overlay, control, show, topojson, smooth_factor, highlight, use_jenks, **kwargs)\u001b[0m\n\u001b[0;32m   1485\u001b[0m         \u001b[1;32mif\u001b[0m \u001b[0mcolor_data\u001b[0m \u001b[1;32mis\u001b[0m \u001b[1;32mnot\u001b[0m \u001b[1;32mNone\u001b[0m \u001b[1;32mand\u001b[0m \u001b[0mkey_on\u001b[0m \u001b[1;32mis\u001b[0m \u001b[1;32mnot\u001b[0m \u001b[1;32mNone\u001b[0m\u001b[1;33m:\u001b[0m\u001b[1;33m\u001b[0m\u001b[1;33m\u001b[0m\u001b[0m\n\u001b[0;32m   1486\u001b[0m             \u001b[0mreal_values\u001b[0m \u001b[1;33m=\u001b[0m \u001b[0mnp\u001b[0m\u001b[1;33m.\u001b[0m\u001b[0marray\u001b[0m\u001b[1;33m(\u001b[0m\u001b[0mlist\u001b[0m\u001b[1;33m(\u001b[0m\u001b[0mcolor_data\u001b[0m\u001b[1;33m.\u001b[0m\u001b[0mvalues\u001b[0m\u001b[1;33m(\u001b[0m\u001b[1;33m)\u001b[0m\u001b[1;33m)\u001b[0m\u001b[1;33m)\u001b[0m\u001b[1;33m\u001b[0m\u001b[1;33m\u001b[0m\u001b[0m\n\u001b[1;32m-> 1487\u001b[1;33m             \u001b[0mreal_values\u001b[0m \u001b[1;33m=\u001b[0m \u001b[0mreal_values\u001b[0m\u001b[1;33m[\u001b[0m\u001b[1;33m~\u001b[0m\u001b[0mnp\u001b[0m\u001b[1;33m.\u001b[0m\u001b[0misnan\u001b[0m\u001b[1;33m(\u001b[0m\u001b[0mreal_values\u001b[0m\u001b[1;33m)\u001b[0m\u001b[1;33m]\u001b[0m\u001b[1;33m\u001b[0m\u001b[1;33m\u001b[0m\u001b[0m\n\u001b[0m\u001b[0;32m   1488\u001b[0m             \u001b[1;32mif\u001b[0m \u001b[0muse_jenks\u001b[0m\u001b[1;33m:\u001b[0m\u001b[1;33m\u001b[0m\u001b[1;33m\u001b[0m\u001b[0m\n\u001b[0;32m   1489\u001b[0m                 \u001b[1;32mfrom\u001b[0m \u001b[0mjenkspy\u001b[0m \u001b[1;32mimport\u001b[0m \u001b[0mjenks_breaks\u001b[0m\u001b[1;33m\u001b[0m\u001b[1;33m\u001b[0m\u001b[0m\n",
      "\u001b[1;31mTypeError\u001b[0m: ufunc 'isnan' not supported for the input types, and the inputs could not be safely coerced to any supported types according to the casting rule ''safe''"
     ]
    }
   ],
   "source": [
    "map = folium.Map(location = [40, -95], zoom_start = 4)\n",
    "\n",
    "folium.Choropleth(\n",
    "    geo_data = country_geo, \n",
    "    data = happy_region,\n",
    "    columns = ['happiness_score', 'location'],\n",
    "    key_on = 'feature.properties.ADMIN',\n",
    "    fill_color = 'YlOrBr', fill_opacity=0.6, line_opacity=0.1,\n",
    "    legend_name = 'Happiness Score').add_to(map)\n",
    "\n",
    "folium.LayerControl().add_to(map)"
   ]
  },
  {
   "cell_type": "code",
   "execution_count": 12,
   "id": "9f27cd13",
   "metadata": {},
   "outputs": [
    {
     "data": {
      "text/plain": [
       "happiness_score    0\n",
       "location           0\n",
       "dtype: int64"
      ]
     },
     "execution_count": 12,
     "metadata": {},
     "output_type": "execute_result"
    }
   ],
   "source": [
    "# checking for null in happy-region\n",
    "happy_region.isnull().sum()"
   ]
  },
  {
   "cell_type": "code",
   "execution_count": 13,
   "id": "41ddc689",
   "metadata": {},
   "outputs": [
    {
     "data": {
      "text/plain": [
       "Switzerland                 5\n",
       "Dominican Republic          5\n",
       "Greece                      5\n",
       "Lebanon                     5\n",
       "Hungary                     5\n",
       "Honduras                    5\n",
       "Tajikistan                  5\n",
       "Tunisia                     5\n",
       "Palestinian Territories     5\n",
       "Bangladesh                  5\n",
       "Iran                        5\n",
       "Ukraine                     5\n",
       "Iraq                        5\n",
       "South Africa                5\n",
       "Ghana                       5\n",
       "Zimbabwe                    5\n",
       "Liberia                     5\n",
       "Mongolia                    5\n",
       "Bosnia and Herzegovina      5\n",
       "Vietnam                     5\n",
       "Albania                     5\n",
       "Kyrgyzstan                  5\n",
       "Nigeria                     5\n",
       "Bhutan                      5\n",
       "Azerbaijan                  5\n",
       "Pakistan                    5\n",
       "Jordan                      5\n",
       "Montenegro                  5\n",
       "China                       5\n",
       "Zambia                      5\n",
       "Iceland                     5\n",
       "Serbia                      5\n",
       "Portugal                    5\n",
       "Latvia                      5\n",
       "Philippines                 5\n",
       "Morocco                     5\n",
       "India                       5\n",
       "Haiti                       5\n",
       "Congo (Kinshasa)            5\n",
       "Nepal                       5\n",
       "Gabon                       5\n",
       "Niger                       5\n",
       "Cambodia                    5\n",
       "Tanzania                    5\n",
       "Madagascar                  5\n",
       "Chad                        5\n",
       "Guinea                      5\n",
       "Ivory Coast                 5\n",
       "Burkina Faso                5\n",
       "Afghanistan                 5\n",
       "Rwanda                      5\n",
       "Benin                       5\n",
       "Syria                       5\n",
       "Burundi                     5\n",
       "Togo                        5\n",
       "Senegal                     5\n",
       "Uganda                      5\n",
       "Congo (Brazzaville)         5\n",
       "Myanmar                     5\n",
       "Ethiopia                    5\n",
       "Sierra Leone                5\n",
       "Mauritania                  5\n",
       "Kenya                       5\n",
       "Armenia                     5\n",
       "Botswana                    5\n",
       "Georgia                     5\n",
       "Mali                        5\n",
       "Malawi                      5\n",
       "Sri Lanka                   5\n",
       "Cameroon                    5\n",
       "Bulgaria                    5\n",
       "Egypt                       5\n",
       "Yemen                       5\n",
       "Turkey                      5\n",
       "Romania                     5\n",
       "Indonesia                   5\n",
       "United Kingdom              5\n",
       "Singapore                   5\n",
       "Panama                      5\n",
       "Germany                     5\n",
       "Chile                       5\n",
       "Qatar                       5\n",
       "France                      5\n",
       "Argentina                   5\n",
       "Czech Republic              5\n",
       "Uruguay                     5\n",
       "Colombia                    5\n",
       "Estonia                     5\n",
       "Saudi Arabia                5\n",
       "Spain                       5\n",
       "Malta                       5\n",
       "Kuwait                      5\n",
       "Venezuela                   5\n",
       "Belgium                     5\n",
       "Guatemala                   5\n",
       "Ireland                     5\n",
       "Denmark                     5\n",
       "Norway                      5\n",
       "Canada                      5\n",
       "Finland                     5\n",
       "Netherlands                 5\n",
       "Sweden                      5\n",
       "New Zealand                 5\n",
       "Australia                   5\n",
       "Israel                      5\n",
       "Costa Rica                  5\n",
       "Austria                     5\n",
       "Mexico                      5\n",
       "United States               5\n",
       "Brazil                      5\n",
       "Luxembourg                  5\n",
       "El Salvador                 5\n",
       "Thailand                    5\n",
       "Uzbekistan                  5\n",
       "Malaysia                    5\n",
       "Croatia                     5\n",
       "Belarus                     5\n",
       "Libya                       5\n",
       "Russia                      5\n",
       "Jamaica                     5\n",
       "Peru                        5\n",
       "Cyprus                      5\n",
       "Algeria                     5\n",
       "Nicaragua                   5\n",
       "Kosovo                      5\n",
       "Lithuania                   5\n",
       "Turkmenistan                5\n",
       "Slovenia                    5\n",
       "Mauritius                   5\n",
       "Kazakhstan                  5\n",
       "Paraguay                    5\n",
       "Moldova                     5\n",
       "Bolivia                     5\n",
       "Italy                       5\n",
       "Bahrain                     5\n",
       "Ecuador                     5\n",
       "South Korea                 5\n",
       "Japan                       5\n",
       "Slovakia                    5\n",
       "Poland                      5\n",
       "Hong Kong                   4\n",
       "Somalia                     4\n",
       "Namibia                     4\n",
       "Central African Republic    4\n",
       "South Sudan                 4\n",
       "Macedonia                   4\n",
       "Laos                        4\n",
       "Mozambique                  4\n",
       "United Arab Emirates        4\n",
       "Angola                      4\n",
       "Sudan                       4\n",
       "Lesotho                     4\n",
       "Taiwan                      4\n",
       "Trinidad and Tobago         3\n",
       "Comoros                     3\n",
       "North Cyprus                3\n",
       "Belize                      3\n",
       "Trinidad & Tobago           2\n",
       "Suriname                    2\n",
       "Northern Cyprus             2\n",
       "Swaziland                   2\n",
       "Hong Kong S.A.R., China     1\n",
       "North Macedonia             1\n",
       "Somaliland region           1\n",
       "Puerto Rico                 1\n",
       "Taiwan Province of China    1\n",
       "Somaliland Region           1\n",
       "Djibouti                    1\n",
       "Oman                        1\n",
       "Gambia                      1\n",
       "Name: location, dtype: int64"
      ]
     },
     "execution_count": 13,
     "metadata": {},
     "output_type": "execute_result"
    }
   ],
   "source": [
    "# checking for blank locations\n",
    "happy_region['location'].value_counts(dropna = False)"
   ]
  },
  {
   "cell_type": "code",
   "execution_count": 14,
   "id": "2e5714be",
   "metadata": {},
   "outputs": [],
   "source": [
    "# creating df of locations\n",
    "locations = happy_region['location']"
   ]
  },
  {
   "cell_type": "code",
   "execution_count": 15,
   "id": "143913b1",
   "metadata": {},
   "outputs": [],
   "source": [
    "# dropping dupliates from locations\n",
    "location = locations.drop_duplicates()"
   ]
  },
  {
   "cell_type": "code",
   "execution_count": 16,
   "id": "3f57e417",
   "metadata": {},
   "outputs": [
    {
     "data": {
      "text/plain": [
       "0                   Switzerland\n",
       "1                       Iceland\n",
       "2                       Denmark\n",
       "3                        Norway\n",
       "4                        Canada\n",
       "5                       Finland\n",
       "6                   Netherlands\n",
       "7                        Sweden\n",
       "8                   New Zealand\n",
       "9                     Australia\n",
       "10                       Israel\n",
       "11                   Costa Rica\n",
       "12                      Austria\n",
       "13                       Mexico\n",
       "14                United States\n",
       "15                       Brazil\n",
       "16                   Luxembourg\n",
       "17                      Ireland\n",
       "18                      Belgium\n",
       "19         United Arab Emirates\n",
       "20               United Kingdom\n",
       "21                         Oman\n",
       "22                    Venezuela\n",
       "23                    Singapore\n",
       "24                       Panama\n",
       "25                      Germany\n",
       "26                        Chile\n",
       "27                        Qatar\n",
       "28                       France\n",
       "29                    Argentina\n",
       "30               Czech Republic\n",
       "31                      Uruguay\n",
       "32                     Colombia\n",
       "33                     Thailand\n",
       "34                 Saudi Arabia\n",
       "35                        Spain\n",
       "36                        Malta\n",
       "37                       Taiwan\n",
       "38                       Kuwait\n",
       "39                     Suriname\n",
       "40          Trinidad and Tobago\n",
       "41                  El Salvador\n",
       "42                    Guatemala\n",
       "43                   Uzbekistan\n",
       "44                     Slovakia\n",
       "45                        Japan\n",
       "46                  South Korea\n",
       "47                      Ecuador\n",
       "48                      Bahrain\n",
       "49                        Italy\n",
       "50                      Bolivia\n",
       "51                      Moldova\n",
       "52                     Paraguay\n",
       "53                   Kazakhstan\n",
       "54                     Slovenia\n",
       "55                    Lithuania\n",
       "56                    Nicaragua\n",
       "57                         Peru\n",
       "58                      Belarus\n",
       "59                       Poland\n",
       "60                     Malaysia\n",
       "61                      Croatia\n",
       "62                        Libya\n",
       "63                       Russia\n",
       "64                      Jamaica\n",
       "65                 North Cyprus\n",
       "66                       Cyprus\n",
       "67                      Algeria\n",
       "68                       Kosovo\n",
       "69                 Turkmenistan\n",
       "70                    Mauritius\n",
       "71                    Hong Kong\n",
       "72                      Estonia\n",
       "73                    Indonesia\n",
       "74                      Vietnam\n",
       "75                       Turkey\n",
       "76                   Kyrgyzstan\n",
       "77                      Nigeria\n",
       "78                       Bhutan\n",
       "79                   Azerbaijan\n",
       "80                     Pakistan\n",
       "81                       Jordan\n",
       "82                   Montenegro\n",
       "83                        China\n",
       "84                       Zambia\n",
       "85                      Romania\n",
       "86                       Serbia\n",
       "87                     Portugal\n",
       "88                       Latvia\n",
       "89                  Philippines\n",
       "90            Somaliland region\n",
       "91                      Morocco\n",
       "92                    Macedonia\n",
       "93                   Mozambique\n",
       "94                      Albania\n",
       "95       Bosnia and Herzegovina\n",
       "96                      Lesotho\n",
       "97           Dominican Republic\n",
       "98                         Laos\n",
       "99                     Mongolia\n",
       "100                   Swaziland\n",
       "101                      Greece\n",
       "102                     Lebanon\n",
       "103                     Hungary\n",
       "104                    Honduras\n",
       "105                  Tajikistan\n",
       "106                     Tunisia\n",
       "107     Palestinian Territories\n",
       "108                  Bangladesh\n",
       "109                        Iran\n",
       "110                     Ukraine\n",
       "111                        Iraq\n",
       "112                South Africa\n",
       "113                       Ghana\n",
       "114                    Zimbabwe\n",
       "115                     Liberia\n",
       "116                       India\n",
       "117                       Sudan\n",
       "118                       Haiti\n",
       "119            Congo (Kinshasa)\n",
       "120                       Nepal\n",
       "121                    Ethiopia\n",
       "122                Sierra Leone\n",
       "123                  Mauritania\n",
       "124                       Kenya\n",
       "125                    Djibouti\n",
       "126                     Armenia\n",
       "127                    Botswana\n",
       "128                     Myanmar\n",
       "129                     Georgia\n",
       "130                      Malawi\n",
       "131                   Sri Lanka\n",
       "132                    Cameroon\n",
       "133                    Bulgaria\n",
       "134                       Egypt\n",
       "135                       Yemen\n",
       "136                      Angola\n",
       "137                        Mali\n",
       "138         Congo (Brazzaville)\n",
       "139                     Comoros\n",
       "140                      Uganda\n",
       "141                     Senegal\n",
       "142                       Gabon\n",
       "143                       Niger\n",
       "144                    Cambodia\n",
       "145                    Tanzania\n",
       "146                  Madagascar\n",
       "147    Central African Republic\n",
       "148                        Chad\n",
       "149                      Guinea\n",
       "150                 Ivory Coast\n",
       "151                Burkina Faso\n",
       "152                 Afghanistan\n",
       "153                      Rwanda\n",
       "154                       Benin\n",
       "155                       Syria\n",
       "156                     Burundi\n",
       "157                        Togo\n",
       "172                 Puerto Rico\n",
       "209                      Belize\n",
       "233                     Somalia\n",
       "254           Somaliland Region\n",
       "270                     Namibia\n",
       "300                 South Sudan\n",
       "347    Taiwan Province of China\n",
       "385     Hong Kong S.A.R., China\n",
       "506           Trinidad & Tobago\n",
       "526             Northern Cyprus\n",
       "708             North Macedonia\n",
       "744                      Gambia\n",
       "Name: location, dtype: object"
      ]
     },
     "execution_count": 16,
     "metadata": {},
     "output_type": "execute_result"
    }
   ],
   "source": [
    "# all locations\n",
    "location"
   ]
  },
  {
   "cell_type": "code",
   "execution_count": 17,
   "id": "b3aab55a",
   "metadata": {},
   "outputs": [
    {
     "ename": "SyntaxError",
     "evalue": "unexpected EOF while parsing (4180015242.py, line 14)",
     "output_type": "error",
     "traceback": [
      "\u001b[1;36m  File \u001b[1;32m\"C:\\Users\\muffi\\AppData\\Local\\Temp\\ipykernel_27140\\4180015242.py\"\u001b[1;36m, line \u001b[1;32m14\u001b[0m\n\u001b[1;33m    'North Macedonia' : 'Macedonia'\u001b[0m\n\u001b[1;37m                                   ^\u001b[0m\n\u001b[1;31mSyntaxError\u001b[0m\u001b[1;31m:\u001b[0m unexpected EOF while parsing\n"
     ]
    }
   ],
   "source": [
    "renamed_location = {'United States' : 'United States of America',\n",
    "    'North Cyprus' : 'Northern Cyprus',\n",
    "    'Hong Kong' : 'Hong Kong S.A.R.',\n",
    "    'Serbia' : 'Republic of Serbia',\n",
    "    'Somaliland region' : 'Somaliland',\n",
    "    'Palestinian Territories' : 'Palestine',\n",
    "    'Congo (Kinshasa)' : 'Democratic Republic of the Congo',\n",
    "    'Congo (Brazzaville)' : 'Republic of Congo',\n",
    "    'Tanzania' : 'United Republic of Tanzania',\n",
    "    'Somaliland Region' : 'Somaliland',\n",
    "    'Taiwan Province of China' : 'Taiwan',\n",
    "    'Hong Kong S.A.R., China' : 'Hong Kong S.A.R.',\n",
    "    'Trinidad & Tobago' : 'Trinidad and Tobago',\n",
    "    'North Macedonia' : 'Macedonia'"
   ]
  },
  {
   "cell_type": "code",
   "execution_count": 18,
   "id": "6c3d4ec1",
   "metadata": {},
   "outputs": [],
   "source": [
    "# renaming United States\n",
    "df_all_clean.loc[df_all_clean['location'] == 'United States', 'location'] = 'United States of America'"
   ]
  },
  {
   "cell_type": "code",
   "execution_count": 19,
   "id": "9044dd94",
   "metadata": {},
   "outputs": [],
   "source": [
    "# renaming North Cyprus\n",
    "df_all_clean.loc[df_all_clean['location'] == 'North Cyprus', 'location'] = 'Northern Cyprus'"
   ]
  },
  {
   "cell_type": "code",
   "execution_count": 20,
   "id": "1e389e2e",
   "metadata": {},
   "outputs": [],
   "source": [
    "# renaming Hong Kong\n",
    "df_all_clean.loc[df_all_clean['location'] == 'Hong Kong', 'location'] = 'Hong Kong S.A.R.'"
   ]
  },
  {
   "cell_type": "code",
   "execution_count": 21,
   "id": "9685e911",
   "metadata": {},
   "outputs": [],
   "source": [
    "# renaming Serbia\n",
    "df_all_clean.loc[df_all_clean['location'] == 'Serbia', 'location'] = 'Republic of Serbia'"
   ]
  },
  {
   "cell_type": "code",
   "execution_count": 22,
   "id": "26698d3f",
   "metadata": {},
   "outputs": [],
   "source": [
    "# renaming Somaliland region\n",
    "df_all_clean.loc[df_all_clean['location'] == 'Somaliland region', 'location'] = 'Somaliland'"
   ]
  },
  {
   "cell_type": "code",
   "execution_count": 23,
   "id": "6936b053",
   "metadata": {},
   "outputs": [],
   "source": [
    "# renaming Palestinian Territories\n",
    "df_all_clean.loc[df_all_clean['location'] == 'Palestinian Territories', 'location'] = 'Palestine'"
   ]
  },
  {
   "cell_type": "code",
   "execution_count": 24,
   "id": "03a4721b",
   "metadata": {},
   "outputs": [],
   "source": [
    "# renaming Congo (Kinshasa)\n",
    "df_all_clean.loc[df_all_clean['location'] == 'Congo (Kinshasa)', 'location'] = 'Democratic Republic of the Congo'"
   ]
  },
  {
   "cell_type": "code",
   "execution_count": 25,
   "id": "efc90366",
   "metadata": {},
   "outputs": [],
   "source": [
    "# renaming Congo (Brazzaville)\n",
    "df_all_clean.loc[df_all_clean['location'] == 'Congo (Brazzaville)', 'location'] = 'Republic of Congo'"
   ]
  },
  {
   "cell_type": "code",
   "execution_count": 26,
   "id": "4a7b9cee",
   "metadata": {},
   "outputs": [],
   "source": [
    "# renaming Tanzania\n",
    "df_all_clean.loc[df_all_clean['location'] == 'Tanzania', 'location'] = 'United Republic of Tanzania'"
   ]
  },
  {
   "cell_type": "code",
   "execution_count": 27,
   "id": "04c4fbb4",
   "metadata": {},
   "outputs": [],
   "source": [
    "# renaming Somaliland Region\n",
    "df_all_clean.loc[df_all_clean['location'] == 'Somaliland Region', 'location'] = 'Somaliland'"
   ]
  },
  {
   "cell_type": "code",
   "execution_count": 28,
   "id": "15a87f06",
   "metadata": {},
   "outputs": [],
   "source": [
    "# renaming Taiwan Province of China\n",
    "df_all_clean.loc[df_all_clean['location'] == 'Taiwan Province of China', 'location'] = 'Taiwan'"
   ]
  },
  {
   "cell_type": "code",
   "execution_count": 29,
   "id": "a70471e1",
   "metadata": {},
   "outputs": [],
   "source": [
    "# renaming Hong Kong S.A.R., China\n",
    "df_all_clean.loc[df_all_clean['location'] == 'Hong Kong S.A.R., China', 'location'] = 'Hong Kong S.A.R.'"
   ]
  },
  {
   "cell_type": "code",
   "execution_count": 30,
   "id": "3126ed7a",
   "metadata": {},
   "outputs": [],
   "source": [
    "# renaming Trinidad & Tobago\n",
    "df_all_clean.loc[df_all_clean['location'] == 'Trinidad & Tobago', 'location'] = 'Trinidad and Tobago'"
   ]
  },
  {
   "cell_type": "code",
   "execution_count": 31,
   "id": "60de9c4b",
   "metadata": {},
   "outputs": [],
   "source": [
    "# renaming North Macedonia\n",
    "df_all_clean.loc[df_all_clean['location'] == 'North Macedonia', 'location'] = 'Macedonia'"
   ]
  },
  {
   "cell_type": "code",
   "execution_count": 32,
   "id": "312992fc",
   "metadata": {},
   "outputs": [],
   "source": [
    "# creating a subset df of data to plot\n",
    "happy_region = df_all_clean[['happiness_score', 'location']]"
   ]
  },
  {
   "cell_type": "code",
   "execution_count": 33,
   "id": "20824b9b",
   "metadata": {},
   "outputs": [
    {
     "ename": "TypeError",
     "evalue": "ufunc 'isnan' not supported for the input types, and the inputs could not be safely coerced to any supported types according to the casting rule ''safe''",
     "output_type": "error",
     "traceback": [
      "\u001b[1;31m---------------------------------------------------------------------------\u001b[0m",
      "\u001b[1;31mTypeError\u001b[0m                                 Traceback (most recent call last)",
      "\u001b[1;32m~\\AppData\\Local\\Temp\\ipykernel_27140\\627004125.py\u001b[0m in \u001b[0;36m<module>\u001b[1;34m\u001b[0m\n\u001b[0;32m      3\u001b[0m \u001b[1;33m\u001b[0m\u001b[0m\n\u001b[0;32m      4\u001b[0m \u001b[1;31m# creating choropleth of happiness score by region\u001b[0m\u001b[1;33m\u001b[0m\u001b[1;33m\u001b[0m\u001b[0m\n\u001b[1;32m----> 5\u001b[1;33m folium.Choropleth(\n\u001b[0m\u001b[0;32m      6\u001b[0m     \u001b[0mgeo_data\u001b[0m \u001b[1;33m=\u001b[0m \u001b[0mcountry_geo\u001b[0m\u001b[1;33m,\u001b[0m\u001b[1;33m\u001b[0m\u001b[1;33m\u001b[0m\u001b[0m\n\u001b[0;32m      7\u001b[0m     \u001b[0mdata\u001b[0m \u001b[1;33m=\u001b[0m \u001b[0mhappy_region\u001b[0m\u001b[1;33m,\u001b[0m\u001b[1;33m\u001b[0m\u001b[1;33m\u001b[0m\u001b[0m\n",
      "\u001b[1;32m~\\anaconda3\\lib\\site-packages\\folium\\features.py\u001b[0m in \u001b[0;36m__init__\u001b[1;34m(self, geo_data, data, columns, key_on, bins, fill_color, nan_fill_color, fill_opacity, nan_fill_opacity, line_color, line_weight, line_opacity, name, legend_name, overlay, control, show, topojson, smooth_factor, highlight, use_jenks, **kwargs)\u001b[0m\n\u001b[0;32m   1485\u001b[0m         \u001b[1;32mif\u001b[0m \u001b[0mcolor_data\u001b[0m \u001b[1;32mis\u001b[0m \u001b[1;32mnot\u001b[0m \u001b[1;32mNone\u001b[0m \u001b[1;32mand\u001b[0m \u001b[0mkey_on\u001b[0m \u001b[1;32mis\u001b[0m \u001b[1;32mnot\u001b[0m \u001b[1;32mNone\u001b[0m\u001b[1;33m:\u001b[0m\u001b[1;33m\u001b[0m\u001b[1;33m\u001b[0m\u001b[0m\n\u001b[0;32m   1486\u001b[0m             \u001b[0mreal_values\u001b[0m \u001b[1;33m=\u001b[0m \u001b[0mnp\u001b[0m\u001b[1;33m.\u001b[0m\u001b[0marray\u001b[0m\u001b[1;33m(\u001b[0m\u001b[0mlist\u001b[0m\u001b[1;33m(\u001b[0m\u001b[0mcolor_data\u001b[0m\u001b[1;33m.\u001b[0m\u001b[0mvalues\u001b[0m\u001b[1;33m(\u001b[0m\u001b[1;33m)\u001b[0m\u001b[1;33m)\u001b[0m\u001b[1;33m)\u001b[0m\u001b[1;33m\u001b[0m\u001b[1;33m\u001b[0m\u001b[0m\n\u001b[1;32m-> 1487\u001b[1;33m             \u001b[0mreal_values\u001b[0m \u001b[1;33m=\u001b[0m \u001b[0mreal_values\u001b[0m\u001b[1;33m[\u001b[0m\u001b[1;33m~\u001b[0m\u001b[0mnp\u001b[0m\u001b[1;33m.\u001b[0m\u001b[0misnan\u001b[0m\u001b[1;33m(\u001b[0m\u001b[0mreal_values\u001b[0m\u001b[1;33m)\u001b[0m\u001b[1;33m]\u001b[0m\u001b[1;33m\u001b[0m\u001b[1;33m\u001b[0m\u001b[0m\n\u001b[0m\u001b[0;32m   1488\u001b[0m             \u001b[1;32mif\u001b[0m \u001b[0muse_jenks\u001b[0m\u001b[1;33m:\u001b[0m\u001b[1;33m\u001b[0m\u001b[1;33m\u001b[0m\u001b[0m\n\u001b[0;32m   1489\u001b[0m                 \u001b[1;32mfrom\u001b[0m \u001b[0mjenkspy\u001b[0m \u001b[1;32mimport\u001b[0m \u001b[0mjenks_breaks\u001b[0m\u001b[1;33m\u001b[0m\u001b[1;33m\u001b[0m\u001b[0m\n",
      "\u001b[1;31mTypeError\u001b[0m: ufunc 'isnan' not supported for the input types, and the inputs could not be safely coerced to any supported types according to the casting rule ''safe''"
     ]
    }
   ],
   "source": [
    "# setinup a folium map at a high-level soom\n",
    "map = folium.Map(location = [100, 0], zoom_start = 1.5)\n",
    "\n",
    "# creating choropleth of happiness score by region\n",
    "folium.Choropleth(\n",
    "    geo_data = country_geo,\n",
    "    data = happy_region,\n",
    "    columns = ['happiness_score', 'location'],\n",
    "    key_on = 'feature.properties.ADMIN',\n",
    "    fill_color = 'YlOrBr', fill_opacity=0.6, line_opacity=0.1,\n",
    "    legend_name = 'Happiness Score').add_to(map)\n",
    "folium.LayerControl().add_to(map)\n",
    "\n",
    "# showing map\n",
    "map"
   ]
  },
  {
   "cell_type": "code",
   "execution_count": 35,
   "id": "9fbd4745",
   "metadata": {},
   "outputs": [],
   "source": [
    "df_all_clean.to_csv(os.path.join(path, '02 Data', 'Prepared Data', 'all_years_cleaned_renamed.csv'))"
   ]
  },
  {
   "cell_type": "code",
   "execution_count": null,
   "id": "8a53f904",
   "metadata": {},
   "outputs": [],
   "source": []
  }
 ],
 "metadata": {
  "kernelspec": {
   "display_name": "Python 3 (ipykernel)",
   "language": "python",
   "name": "python3"
  },
  "language_info": {
   "codemirror_mode": {
    "name": "ipython",
    "version": 3
   },
   "file_extension": ".py",
   "mimetype": "text/x-python",
   "name": "python",
   "nbconvert_exporter": "python",
   "pygments_lexer": "ipython3",
   "version": "3.9.13"
  }
 },
 "nbformat": 4,
 "nbformat_minor": 5
}
