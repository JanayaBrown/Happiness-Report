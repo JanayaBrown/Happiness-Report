{
 "cells": [
  {
   "cell_type": "markdown",
   "id": "98de4b2e",
   "metadata": {},
   "source": [
    "# 0. Content"
   ]
  },
  {
   "cell_type": "markdown",
   "id": "ce75f1df",
   "metadata": {},
   "source": [
    "This script contains the wrangling and merging of the raw 2015 - 2019 World Happiness Index data frames. This includes:\n",
    "+ Checking column compaitibilty\n",
    "+ Wrangling procedures (dropping columns, renaming columns, checking data types, transposing)\n",
    "+ Adding a year column\n",
    "+ Merging dataframes"
   ]
  },
  {
   "cell_type": "markdown",
   "id": "b6c11072",
   "metadata": {},
   "source": [
    "# 1. Importing Libraries and Data"
   ]
  },
  {
   "cell_type": "code",
   "execution_count": 2,
   "id": "84f646c9",
   "metadata": {},
   "outputs": [],
   "source": [
    "# importing libraries\n",
    "import pandas as pd\n",
    "import numpy as np\n",
    "import os"
   ]
  },
  {
   "cell_type": "code",
   "execution_count": 3,
   "id": "befa6960",
   "metadata": {},
   "outputs": [],
   "source": [
    "# creating main path \n",
    "path = r'C:\\Users\\muffi\\OneDrive\\CareerFoundry\\World Happiness Index Analysis 2023'"
   ]
  },
  {
   "cell_type": "code",
   "execution_count": 4,
   "id": "b99c7ec3",
   "metadata": {},
   "outputs": [
    {
     "data": {
      "text/plain": [
       "(158, 12)"
      ]
     },
     "execution_count": 4,
     "metadata": {},
     "output_type": "execute_result"
    }
   ],
   "source": [
    "# importing 2015 WHR dataframe\n",
    "df_2015 = pd.read_csv(os.path.join(path, '02 Data', 'Original Data', '2015.csv'))\n",
    "df_2015.shape"
   ]
  },
  {
   "cell_type": "code",
   "execution_count": 5,
   "id": "ad2f0aea",
   "metadata": {},
   "outputs": [
    {
     "data": {
      "text/plain": [
       "(157, 13)"
      ]
     },
     "execution_count": 5,
     "metadata": {},
     "output_type": "execute_result"
    }
   ],
   "source": [
    "# importing 2016 WHR dataframe\n",
    "df_2016 = pd.read_csv(os.path.join(path, '02 Data', 'Original Data', '2016.csv'))\n",
    "df_2016.shape"
   ]
  },
  {
   "cell_type": "code",
   "execution_count": 6,
   "id": "84efd446",
   "metadata": {},
   "outputs": [
    {
     "data": {
      "text/plain": [
       "(155, 12)"
      ]
     },
     "execution_count": 6,
     "metadata": {},
     "output_type": "execute_result"
    }
   ],
   "source": [
    "# importing 2017 WHR dataframe\n",
    "df_2017 = pd.read_csv(os.path.join(path, '02 Data', 'Original Data', '2017.csv'))\n",
    "df_2017.shape"
   ]
  },
  {
   "cell_type": "code",
   "execution_count": 7,
   "id": "851bac26",
   "metadata": {},
   "outputs": [
    {
     "data": {
      "text/plain": [
       "(156, 9)"
      ]
     },
     "execution_count": 7,
     "metadata": {},
     "output_type": "execute_result"
    }
   ],
   "source": [
    "# importing 2018 WHR dataframe\n",
    "df_2018 = pd.read_csv(os.path.join(path, '02 Data', 'Original Data', '2018.csv'))\n",
    "df_2018.shape"
   ]
  },
  {
   "cell_type": "code",
   "execution_count": 8,
   "id": "99e26793",
   "metadata": {},
   "outputs": [
    {
     "data": {
      "text/plain": [
       "(156, 9)"
      ]
     },
     "execution_count": 8,
     "metadata": {},
     "output_type": "execute_result"
    }
   ],
   "source": [
    "# importing 2019 WHR dataframe\n",
    "df_2019 = pd.read_csv(os.path.join(path, '02 Data', 'Original Data', '2019.csv'))\n",
    "df_2019.shape"
   ]
  },
  {
   "cell_type": "code",
   "execution_count": 9,
   "id": "04f51d20",
   "metadata": {},
   "outputs": [],
   "source": [
    "# setting the max number of rows\n",
    "pd.set_option('display.max_rows', 500)"
   ]
  },
  {
   "cell_type": "markdown",
   "id": "55a7f8a3",
   "metadata": {},
   "source": [
    "# 2. Column Analysis"
   ]
  },
  {
   "cell_type": "markdown",
   "id": "d2b86f8d",
   "metadata": {},
   "source": [
    "I plan to stack the table on top of each other. To ensure a seamless merge, I will ensure the columns match up"
   ]
  },
  {
   "cell_type": "code",
   "execution_count": 10,
   "id": "406a84d3",
   "metadata": {},
   "outputs": [
    {
     "data": {
      "text/plain": [
       "Index(['Country', 'Region', 'Happiness Rank', 'Happiness Score',\n",
       "       'Standard Error', 'Economy (GDP per Capita)', 'Family',\n",
       "       'Health (Life Expectancy)', 'Freedom', 'Trust (Government Corruption)',\n",
       "       'Generosity', 'Dystopia Residual'],\n",
       "      dtype='object')"
      ]
     },
     "execution_count": 10,
     "metadata": {},
     "output_type": "execute_result"
    }
   ],
   "source": [
    "# looking at the 2015 columns\n",
    "df_2015.columns"
   ]
  },
  {
   "cell_type": "code",
   "execution_count": 11,
   "id": "13e69e6f",
   "metadata": {},
   "outputs": [
    {
     "data": {
      "text/plain": [
       "Index(['Country', 'Region', 'Happiness Rank', 'Happiness Score',\n",
       "       'Lower Confidence Interval', 'Upper Confidence Interval',\n",
       "       'Economy (GDP per Capita)', 'Family', 'Health (Life Expectancy)',\n",
       "       'Freedom', 'Trust (Government Corruption)', 'Generosity',\n",
       "       'Dystopia Residual'],\n",
       "      dtype='object')"
      ]
     },
     "execution_count": 11,
     "metadata": {},
     "output_type": "execute_result"
    }
   ],
   "source": [
    "# looking at 2016 columns\n",
    "df_2016.columns"
   ]
  },
  {
   "cell_type": "code",
   "execution_count": 12,
   "id": "f8bb28ed",
   "metadata": {},
   "outputs": [
    {
     "data": {
      "text/plain": [
       "Index(['Country', 'Happiness.Rank', 'Happiness.Score', 'Whisker.high',\n",
       "       'Whisker.low', 'Economy..GDP.per.Capita.', 'Family',\n",
       "       'Health..Life.Expectancy.', 'Freedom', 'Generosity',\n",
       "       'Trust..Government.Corruption.', 'Dystopia.Residual'],\n",
       "      dtype='object')"
      ]
     },
     "execution_count": 12,
     "metadata": {},
     "output_type": "execute_result"
    }
   ],
   "source": [
    "# looking at 2017 columns\n",
    "df_2017.columns"
   ]
  },
  {
   "cell_type": "code",
   "execution_count": 13,
   "id": "91165139",
   "metadata": {},
   "outputs": [
    {
     "data": {
      "text/plain": [
       "Index(['Overall rank', 'Country or region', 'Score', 'GDP per capita',\n",
       "       'Social support', 'Healthy life expectancy',\n",
       "       'Freedom to make life choices', 'Generosity',\n",
       "       'Perceptions of corruption'],\n",
       "      dtype='object')"
      ]
     },
     "execution_count": 13,
     "metadata": {},
     "output_type": "execute_result"
    }
   ],
   "source": [
    "# looking at 2018 columns\n",
    "df_2018.columns"
   ]
  },
  {
   "cell_type": "code",
   "execution_count": 14,
   "id": "cfee1db7",
   "metadata": {},
   "outputs": [
    {
     "data": {
      "text/plain": [
       "Index(['Overall rank', 'Country or region', 'Score', 'GDP per capita',\n",
       "       'Social support', 'Healthy life expectancy',\n",
       "       'Freedom to make life choices', 'Generosity',\n",
       "       'Perceptions of corruption'],\n",
       "      dtype='object')"
      ]
     },
     "execution_count": 14,
     "metadata": {},
     "output_type": "execute_result"
    }
   ],
   "source": [
    "# looking at 2019 columns\n",
    "df_2019.columns"
   ]
  },
  {
   "cell_type": "markdown",
   "id": "ce9d362a",
   "metadata": {},
   "source": [
    "The df have the following columns in common:\n",
    "+ Country/Country or Region\n",
    "+ Happiness Rank/Overal rank\n",
    "+ Happiness Score\n",
    "+ Economy (GDP per capita)\n",
    "+ Family/ Social Support\n",
    "+ Health\n",
    "+ Freedom\n",
    "+ Trust/Perceptions of Political Corruption\n",
    "+ Generosity"
   ]
  },
  {
   "cell_type": "markdown",
   "id": "a0f9adc0",
   "metadata": {},
   "source": [
    "# 2. Data Wrangling"
   ]
  },
  {
   "cell_type": "markdown",
   "id": "d6cb7173",
   "metadata": {},
   "source": [
    "This section contain the wrangling of the dfs. This includes:\n",
    "+ dropping columns \n",
    "+ renaming columns\n",
    "+ changing column data types\n",
    "+ Transposing dataframes"
   ]
  },
  {
   "cell_type": "markdown",
   "id": "82750722",
   "metadata": {},
   "source": [
    "## 2.1. Dropping"
   ]
  },
  {
   "cell_type": "markdown",
   "id": "4b702cf7",
   "metadata": {},
   "source": [
    "Dropping any columns not mentioned in the previous list."
   ]
  },
  {
   "cell_type": "code",
   "execution_count": 18,
   "id": "8f3f4f92",
   "metadata": {},
   "outputs": [],
   "source": [
    "# dropping standard error, region, and Distopia residual cols from 2015 df\n",
    "df_15_drop = df_2015.drop(columns = ['Standard Error', 'Dystopia Residual', 'Region'])"
   ]
  },
  {
   "cell_type": "code",
   "execution_count": 19,
   "id": "58b4b8c6",
   "metadata": {},
   "outputs": [
    {
     "data": {
      "text/plain": [
       "Index(['Country', 'Happiness Rank', 'Happiness Score',\n",
       "       'Economy (GDP per Capita)', 'Family', 'Health (Life Expectancy)',\n",
       "       'Freedom', 'Trust (Government Corruption)', 'Generosity'],\n",
       "      dtype='object')"
      ]
     },
     "execution_count": 19,
     "metadata": {},
     "output_type": "execute_result"
    }
   ],
   "source": [
    "# checking remaining 2015 cols\n",
    "df_15_drop.columns"
   ]
  },
  {
   "cell_type": "code",
   "execution_count": 115,
   "id": "b3655c99",
   "metadata": {},
   "outputs": [
    {
     "data": {
      "text/plain": [
       "(158, 9)"
      ]
     },
     "execution_count": 115,
     "metadata": {},
     "output_type": "execute_result"
    }
   ],
   "source": [
    "# looking at 2015 df shape\n",
    "df_15_drop.shape"
   ]
  },
  {
   "cell_type": "code",
   "execution_count": 20,
   "id": "1d27332e",
   "metadata": {},
   "outputs": [],
   "source": [
    "# dropping region, lower and upper confindence intervals, and Dystopia residual cols from 2016 df\n",
    "df_16_drop = df_2016.drop(columns = ['Region', 'Lower Confidence Interval', 'Upper Confidence Interval', 'Dystopia Residual'])"
   ]
  },
  {
   "cell_type": "code",
   "execution_count": 21,
   "id": "42613b57",
   "metadata": {},
   "outputs": [
    {
     "data": {
      "text/plain": [
       "Index(['Country', 'Happiness Rank', 'Happiness Score',\n",
       "       'Economy (GDP per Capita)', 'Family', 'Health (Life Expectancy)',\n",
       "       'Freedom', 'Trust (Government Corruption)', 'Generosity'],\n",
       "      dtype='object')"
      ]
     },
     "execution_count": 21,
     "metadata": {},
     "output_type": "execute_result"
    }
   ],
   "source": [
    "# checking remaining 2016 cols\n",
    "df_16_drop.columns"
   ]
  },
  {
   "cell_type": "code",
   "execution_count": 116,
   "id": "5e0b0724",
   "metadata": {},
   "outputs": [
    {
     "data": {
      "text/plain": [
       "(157, 9)"
      ]
     },
     "execution_count": 116,
     "metadata": {},
     "output_type": "execute_result"
    }
   ],
   "source": [
    "# checking at 2016 df shape\n",
    "df_16_drop.shape"
   ]
  },
  {
   "cell_type": "code",
   "execution_count": 22,
   "id": "26f3e30e",
   "metadata": {},
   "outputs": [],
   "source": [
    "# dropping whisker high and lower, and Dystopia residual cols from 2017 df\n",
    "df_17_drop = df_2017.drop(columns = ['Whisker.low', 'Whisker.high', 'Dystopia.Residual'])"
   ]
  },
  {
   "cell_type": "code",
   "execution_count": 23,
   "id": "ccdabcba",
   "metadata": {},
   "outputs": [
    {
     "data": {
      "text/plain": [
       "Index(['Country', 'Happiness.Rank', 'Happiness.Score',\n",
       "       'Economy..GDP.per.Capita.', 'Family', 'Health..Life.Expectancy.',\n",
       "       'Freedom', 'Generosity', 'Trust..Government.Corruption.'],\n",
       "      dtype='object')"
      ]
     },
     "execution_count": 23,
     "metadata": {},
     "output_type": "execute_result"
    }
   ],
   "source": [
    "# checking the remaining 2017 cols\n",
    "df_17_drop.columns"
   ]
  },
  {
   "cell_type": "code",
   "execution_count": 117,
   "id": "29197281",
   "metadata": {},
   "outputs": [
    {
     "data": {
      "text/plain": [
       "(155, 9)"
      ]
     },
     "execution_count": 117,
     "metadata": {},
     "output_type": "execute_result"
    }
   ],
   "source": [
    "# checking df 2017 shape\n",
    "df_17_drop.shape"
   ]
  },
  {
   "cell_type": "code",
   "execution_count": 24,
   "id": "2a49b522",
   "metadata": {},
   "outputs": [],
   "source": [
    "# 2018 and 2019 are fine, but I want the same naming coventions\n",
    "df_18_drop = df_2018\n",
    "df_19_drop= df_2019"
   ]
  },
  {
   "cell_type": "markdown",
   "id": "7f064340",
   "metadata": {},
   "source": [
    "## 2.2. Renaming"
   ]
  },
  {
   "cell_type": "markdown",
   "id": "3e449a7d",
   "metadata": {},
   "source": [
    "All columns will be renamed to fit the following covention:\n",
    "+ location\n",
    "+ rank\n",
    "+ happiness_score\n",
    "+ gdp_per_capita\n",
    "+ social_support\n",
    "+ life_expectancy\n",
    "+ freedom\n",
    "+ trust_in_government\n",
    "+ generosity"
   ]
  },
  {
   "cell_type": "code",
   "execution_count": 25,
   "id": "4420dc4f",
   "metadata": {},
   "outputs": [],
   "source": [
    "# creating object for new names for the 2015 df\n",
    "name_15 = {'Country' : 'location', \n",
    "           'Happiness Rank' : 'rank', \n",
    "           'Happiness Score' : 'happiness_score',\n",
    "           'Economy (GDP per Capita)' : 'gdp_per_capita',\n",
    "           'Family' : 'social_support',\n",
    "           'Health (Life Expectancy)' : 'life_expectancy',\n",
    "           'Freedom' : 'freedom',\n",
    "           'Trust (Government Corruption)' : 'trust_in_government', \n",
    "           'Generosity' : 'generosity'   \n",
    "}"
   ]
  },
  {
   "cell_type": "code",
   "execution_count": 77,
   "id": "a4802b92",
   "metadata": {},
   "outputs": [],
   "source": [
    "# changing col names in 2015 df\n",
    "df_15_rename = df_15_drop.rename(columns = name_15)"
   ]
  },
  {
   "cell_type": "code",
   "execution_count": 78,
   "id": "bac268d1",
   "metadata": {},
   "outputs": [
    {
     "data": {
      "text/plain": [
       "Index(['location', 'rank', 'happiness_score', 'gdp_per_capita',\n",
       "       'social_support', 'life_expectancy', 'freedom', 'trust_in_government',\n",
       "       'generosity'],\n",
       "      dtype='object')"
      ]
     },
     "execution_count": 78,
     "metadata": {},
     "output_type": "execute_result"
    }
   ],
   "source": [
    "# checking cols in 2015 df\n",
    "df_15_rename.columns"
   ]
  },
  {
   "cell_type": "code",
   "execution_count": 31,
   "id": "f531c3d0",
   "metadata": {},
   "outputs": [],
   "source": [
    "# creating object for new names for the 2016 df\n",
    "name_16 = {'Country' : 'location', \n",
    "           'Happiness Rank' : 'rank', \n",
    "           'Happiness Score' : 'happiness_score',\n",
    "           'Economy (GDP per Capita)' : 'gdp_per_capita',\n",
    "           'Family' : 'social_support',\n",
    "           'Health (Life Expectancy)' : 'life_expectancy',\n",
    "           'Freedom' : 'freedom',\n",
    "           'Trust (Government Corruption)' : 'trust_in_government', \n",
    "           'Generosity' : 'generosity'   \n",
    "}"
   ]
  },
  {
   "cell_type": "code",
   "execution_count": 32,
   "id": "3a903c8f",
   "metadata": {},
   "outputs": [],
   "source": [
    "# changing col names in 2016 df\n",
    "df_16_rename = df_16_drop.rename(columns = name_16)"
   ]
  },
  {
   "cell_type": "code",
   "execution_count": 33,
   "id": "5a2e8bc7",
   "metadata": {},
   "outputs": [
    {
     "data": {
      "text/plain": [
       "Index(['location', 'rank', 'happiness_score', 'gdp_per_capita',\n",
       "       'social_support', 'life_expectancy', 'freedom', 'trust_in_government',\n",
       "       'generosity'],\n",
       "      dtype='object')"
      ]
     },
     "execution_count": 33,
     "metadata": {},
     "output_type": "execute_result"
    }
   ],
   "source": [
    "# checking cols in 2016 df\n",
    "df_16_rename.columns"
   ]
  },
  {
   "cell_type": "code",
   "execution_count": 42,
   "id": "22909e9a",
   "metadata": {},
   "outputs": [],
   "source": [
    "# creating object for new names for the 2017 df\n",
    "name_17 = {'Country' : 'location', \n",
    "           'Happiness.Rank' : 'rank', \n",
    "           'Happiness.Score' : 'happiness_score',\n",
    "           'Economy..GDP.per.Capita.' : 'gdp_per_capita',\n",
    "           'Family' : 'social_support',\n",
    "           'Health..Life.Expectancy.' : 'life_expectancy',\n",
    "           'Freedom' : 'freedom',\n",
    "           'Trust..Government.Corruption.' : 'trust_in_government', \n",
    "           'Generosity' : 'generosity'   \n",
    "}"
   ]
  },
  {
   "cell_type": "code",
   "execution_count": 43,
   "id": "7f07ff6b",
   "metadata": {},
   "outputs": [],
   "source": [
    "# changing col names in 2017 df\n",
    "df_17_rename = df_17_drop.rename(columns = name_17)"
   ]
  },
  {
   "cell_type": "code",
   "execution_count": 44,
   "id": "88d8eb20",
   "metadata": {},
   "outputs": [
    {
     "data": {
      "text/plain": [
       "Index(['location', 'rank', 'happiness_score', 'gdp_per_capita',\n",
       "       'social_support', 'life_expectancy', 'freedom', 'generosity',\n",
       "       'trust_in_government'],\n",
       "      dtype='object')"
      ]
     },
     "execution_count": 44,
     "metadata": {},
     "output_type": "execute_result"
    }
   ],
   "source": [
    "# checking the cols in 2017 df\n",
    "df_17_rename.columns"
   ]
  },
  {
   "cell_type": "code",
   "execution_count": 49,
   "id": "a6ebc964",
   "metadata": {},
   "outputs": [],
   "source": [
    "# creating object for new names for the 2018 df\n",
    "name_18 = {'Country or region' : 'location', \n",
    "           'Overall rank' : 'rank', \n",
    "           'Score' : 'happiness_score',\n",
    "           'GDP per capita' : 'gdp_per_capita',\n",
    "           'Social support' : 'social_support',\n",
    "           'Healthy life expectancy' : 'life_expectancy',\n",
    "           'Freedom to make life choices' : 'freedom',\n",
    "           'Perceptions of corruption' : 'trust_in_government', \n",
    "           'Generosity' : 'generosity'   \n",
    "}"
   ]
  },
  {
   "cell_type": "code",
   "execution_count": 50,
   "id": "432275ea",
   "metadata": {},
   "outputs": [],
   "source": [
    "# changing col names in 2018 df\n",
    "df_18_rename = df_18_drop.rename(columns = name_18)"
   ]
  },
  {
   "cell_type": "code",
   "execution_count": 51,
   "id": "8be8c6f8",
   "metadata": {},
   "outputs": [
    {
     "data": {
      "text/plain": [
       "Index(['rank', 'location', 'happiness_score', 'gdp_per_capita',\n",
       "       'social_support', 'life_expectancy', 'freedom', 'generosity',\n",
       "       'trust_in_government'],\n",
       "      dtype='object')"
      ]
     },
     "execution_count": 51,
     "metadata": {},
     "output_type": "execute_result"
    }
   ],
   "source": [
    "# checking the cols in 2018 df\n",
    "df_18_rename.columns"
   ]
  },
  {
   "cell_type": "code",
   "execution_count": 52,
   "id": "45455aac",
   "metadata": {},
   "outputs": [],
   "source": [
    "# creating object for new names for the 2019 df\n",
    "name_19 = {'Country or region' : 'location', \n",
    "           'Overall rank' : 'rank', \n",
    "           'Score' : 'happiness_score',\n",
    "           'GDP per capita' : 'gdp_per_capita',\n",
    "           'Social support' : 'social_support',\n",
    "           'Healthy life expectancy' : 'life_expectancy',\n",
    "           'Freedom to make life choices' : 'freedom',\n",
    "           'Perceptions of corruption' : 'trust_in_government', \n",
    "           'Generosity' : 'generosity'   \n",
    "}"
   ]
  },
  {
   "cell_type": "code",
   "execution_count": 54,
   "id": "f33687d2",
   "metadata": {},
   "outputs": [],
   "source": [
    "# changing col name in 2019 df\n",
    "df_19_rename = df_19_drop.rename(columns = name_19)"
   ]
  },
  {
   "cell_type": "code",
   "execution_count": 55,
   "id": "5368c66a",
   "metadata": {},
   "outputs": [
    {
     "data": {
      "text/plain": [
       "Index(['rank', 'location', 'happiness_score', 'gdp_per_capita',\n",
       "       'social_support', 'life_expectancy', 'freedom', 'generosity',\n",
       "       'trust_in_government'],\n",
       "      dtype='object')"
      ]
     },
     "execution_count": 55,
     "metadata": {},
     "output_type": "execute_result"
    }
   ],
   "source": [
    "# checking the cols in the 2019 df\n",
    "df_19_rename.columns"
   ]
  },
  {
   "cell_type": "markdown",
   "id": "d385c83b",
   "metadata": {},
   "source": [
    "## 2.3. Changing Data Types"
   ]
  },
  {
   "cell_type": "markdown",
   "id": "8e763ec3",
   "metadata": {},
   "source": [
    "Making sure the follow data types are adhered to:\n",
    "+ rank is an int\n",
    "+ region is a string\n",
    "+ the rest are floats"
   ]
  },
  {
   "cell_type": "code",
   "execution_count": 56,
   "id": "a0c06d70",
   "metadata": {},
   "outputs": [
    {
     "data": {
      "text/plain": [
       "location                object\n",
       "rank                     int64\n",
       "happiness_score        float64\n",
       "gdp_per_capita         float64\n",
       "social_support         float64\n",
       "life_expectancy        float64\n",
       "freedom                float64\n",
       "trust_in_government    float64\n",
       "generosity             float64\n",
       "dtype: object"
      ]
     },
     "execution_count": 56,
     "metadata": {},
     "output_type": "execute_result"
    }
   ],
   "source": [
    "# checking 2015 df data type\n",
    "df_15_rename.dtypes"
   ]
  },
  {
   "cell_type": "code",
   "execution_count": 57,
   "id": "08866488",
   "metadata": {},
   "outputs": [
    {
     "data": {
      "text/plain": [
       "location                object\n",
       "rank                     int64\n",
       "happiness_score        float64\n",
       "gdp_per_capita         float64\n",
       "social_support         float64\n",
       "life_expectancy        float64\n",
       "freedom                float64\n",
       "trust_in_government    float64\n",
       "generosity             float64\n",
       "dtype: object"
      ]
     },
     "execution_count": 57,
     "metadata": {},
     "output_type": "execute_result"
    }
   ],
   "source": [
    "# checking 2016 df data types\n",
    "df_16_rename.dtypes"
   ]
  },
  {
   "cell_type": "code",
   "execution_count": 58,
   "id": "8afccfe1",
   "metadata": {},
   "outputs": [
    {
     "data": {
      "text/plain": [
       "location                object\n",
       "rank                     int64\n",
       "happiness_score        float64\n",
       "gdp_per_capita         float64\n",
       "social_support         float64\n",
       "life_expectancy        float64\n",
       "freedom                float64\n",
       "generosity             float64\n",
       "trust_in_government    float64\n",
       "dtype: object"
      ]
     },
     "execution_count": 58,
     "metadata": {},
     "output_type": "execute_result"
    }
   ],
   "source": [
    "# checking 2017 df data types\n",
    "df_17_rename.dtypes"
   ]
  },
  {
   "cell_type": "code",
   "execution_count": 59,
   "id": "2842130a",
   "metadata": {},
   "outputs": [
    {
     "data": {
      "text/plain": [
       "rank                     int64\n",
       "location                object\n",
       "happiness_score        float64\n",
       "gdp_per_capita         float64\n",
       "social_support         float64\n",
       "life_expectancy        float64\n",
       "freedom                float64\n",
       "generosity             float64\n",
       "trust_in_government    float64\n",
       "dtype: object"
      ]
     },
     "execution_count": 59,
     "metadata": {},
     "output_type": "execute_result"
    }
   ],
   "source": [
    "# checking 2018 df data types\n",
    "df_18_rename.dtypes"
   ]
  },
  {
   "cell_type": "code",
   "execution_count": 60,
   "id": "19035f52",
   "metadata": {},
   "outputs": [
    {
     "data": {
      "text/plain": [
       "rank                     int64\n",
       "location                object\n",
       "happiness_score        float64\n",
       "gdp_per_capita         float64\n",
       "social_support         float64\n",
       "life_expectancy        float64\n",
       "freedom                float64\n",
       "generosity             float64\n",
       "trust_in_government    float64\n",
       "dtype: object"
      ]
     },
     "execution_count": 60,
     "metadata": {},
     "output_type": "execute_result"
    }
   ],
   "source": [
    "# checking 2019 df data types\n",
    "df_19_rename.dtypes"
   ]
  },
  {
   "cell_type": "markdown",
   "id": "e85a1be8",
   "metadata": {},
   "source": [
    "All the data types are correct"
   ]
  },
  {
   "cell_type": "markdown",
   "id": "e62623dc",
   "metadata": {},
   "source": [
    "## 2.4. Transposing"
   ]
  },
  {
   "cell_type": "markdown",
   "id": "22c6053c",
   "metadata": {},
   "source": [
    "No transposing needed"
   ]
  },
  {
   "cell_type": "markdown",
   "id": "cf5dd496",
   "metadata": {},
   "source": [
    "# 3. Data Merging"
   ]
  },
  {
   "cell_type": "markdown",
   "id": "d30c4832",
   "metadata": {},
   "source": [
    "The section is for merged the dataframes together to prep for further cleaning"
   ]
  },
  {
   "cell_type": "markdown",
   "id": "d52e4c75",
   "metadata": {},
   "source": [
    "## 3.1. Year Column"
   ]
  },
  {
   "cell_type": "markdown",
   "id": "51ddaece",
   "metadata": {},
   "source": [
    "I want to add a year col so these dataframes can be distriguishable after merging"
   ]
  },
  {
   "cell_type": "code",
   "execution_count": 79,
   "id": "e27f54ea",
   "metadata": {},
   "outputs": [],
   "source": [
    "# creating fully wrangled 2015 df\n",
    "df_15_wrang = df_15_rename"
   ]
  },
  {
   "cell_type": "code",
   "execution_count": 81,
   "id": "1aecc379",
   "metadata": {},
   "outputs": [],
   "source": [
    "# adding year col filled with 2015\n",
    "df_15_wrang.loc[df_15_wrang['rank'] > 0, 'year'] = 2015"
   ]
  },
  {
   "cell_type": "code",
   "execution_count": 83,
   "id": "0d4f40a0",
   "metadata": {},
   "outputs": [
    {
     "data": {
      "text/plain": [
       "2015.0    1.0\n",
       "Name: year, dtype: float64"
      ]
     },
     "execution_count": 83,
     "metadata": {},
     "output_type": "execute_result"
    }
   ],
   "source": [
    "# checking that all the columns are filled \n",
    "df_15_wrang['year'].value_counts()/len(df_15_wrang)"
   ]
  },
  {
   "cell_type": "code",
   "execution_count": 84,
   "id": "bc256c2c",
   "metadata": {},
   "outputs": [],
   "source": [
    "# creating fully wrangled 2016 df\n",
    "df_16_wrang = df_16_rename"
   ]
  },
  {
   "cell_type": "code",
   "execution_count": 86,
   "id": "ffef8565",
   "metadata": {},
   "outputs": [],
   "source": [
    "# adding year col filled with 2016\n",
    "df_16_wrang.loc[df_16_wrang['rank'] > 0, 'year'] = 2016"
   ]
  },
  {
   "cell_type": "code",
   "execution_count": 87,
   "id": "6c69276b",
   "metadata": {},
   "outputs": [
    {
     "data": {
      "text/plain": [
       "2016.0    1.0\n",
       "Name: year, dtype: float64"
      ]
     },
     "execution_count": 87,
     "metadata": {},
     "output_type": "execute_result"
    }
   ],
   "source": [
    "# checking that all the columns are filled \n",
    "df_16_wrang['year'].value_counts()/len(df_16_wrang)"
   ]
  },
  {
   "cell_type": "code",
   "execution_count": 88,
   "id": "ba823f4c",
   "metadata": {},
   "outputs": [],
   "source": [
    "# creating fully wrangled 2017 df\n",
    "df_17_wrang = df_17_rename"
   ]
  },
  {
   "cell_type": "code",
   "execution_count": 89,
   "id": "59e68573",
   "metadata": {},
   "outputs": [],
   "source": [
    "# adding year col filled with 2017\n",
    "df_17_wrang.loc[df_17_wrang['rank'] > 0, 'year'] = 2017"
   ]
  },
  {
   "cell_type": "code",
   "execution_count": 90,
   "id": "dd03d5e8",
   "metadata": {},
   "outputs": [
    {
     "data": {
      "text/plain": [
       "2017.0    1.0\n",
       "Name: year, dtype: float64"
      ]
     },
     "execution_count": 90,
     "metadata": {},
     "output_type": "execute_result"
    }
   ],
   "source": [
    "# checking that all the columns are filled \n",
    "df_17_wrang['year'].value_counts()/len(df_17_wrang)"
   ]
  },
  {
   "cell_type": "code",
   "execution_count": 91,
   "id": "0b8937b3",
   "metadata": {},
   "outputs": [],
   "source": [
    "# creating fully wrangled 2018 df\n",
    "df_18_wrang = df_18_rename"
   ]
  },
  {
   "cell_type": "code",
   "execution_count": 94,
   "id": "78cfbe10",
   "metadata": {},
   "outputs": [],
   "source": [
    "# adding year col filled with 2018\n",
    "df_18_wrang.loc[df_18_wrang['rank'] > 0, 'year'] = 2018"
   ]
  },
  {
   "cell_type": "code",
   "execution_count": 95,
   "id": "f4b6705e",
   "metadata": {},
   "outputs": [
    {
     "data": {
      "text/plain": [
       "2018.0    1.0\n",
       "Name: year, dtype: float64"
      ]
     },
     "execution_count": 95,
     "metadata": {},
     "output_type": "execute_result"
    }
   ],
   "source": [
    "# checking that all the columns are filled \n",
    "df_18_wrang['year'].value_counts()/len(df_18_wrang)"
   ]
  },
  {
   "cell_type": "code",
   "execution_count": 96,
   "id": "9aae97d8",
   "metadata": {},
   "outputs": [],
   "source": [
    "# creating fully wrangled 2019 df\n",
    "df_19_wrang = df_19_rename"
   ]
  },
  {
   "cell_type": "code",
   "execution_count": 97,
   "id": "5cadb25e",
   "metadata": {},
   "outputs": [],
   "source": [
    "# adding year col filled with 2019\n",
    "df_19_wrang.loc[df_19_wrang['rank'] > 0, 'year'] = 2019"
   ]
  },
  {
   "cell_type": "code",
   "execution_count": 98,
   "id": "ae1b8f8e",
   "metadata": {},
   "outputs": [
    {
     "data": {
      "text/plain": [
       "2019.0    1.0\n",
       "Name: year, dtype: float64"
      ]
     },
     "execution_count": 98,
     "metadata": {},
     "output_type": "execute_result"
    }
   ],
   "source": [
    "# checking that all the columns are filled \n",
    "df_19_wrang['year'].value_counts()/len(df_19_wrang)"
   ]
  },
  {
   "cell_type": "markdown",
   "id": "94257ee4",
   "metadata": {},
   "source": [
    "## 3.2. Merging "
   ]
  },
  {
   "cell_type": "code",
   "execution_count": 105,
   "id": "8f0e9852",
   "metadata": {},
   "outputs": [],
   "source": [
    "# merging the dataframes\n",
    "df_all_wrang = pd.concat([df_15_wrang, df_16_wrang, df_17_wrang, df_18_wrang, df_19_wrang], axis = 0)"
   ]
  },
  {
   "cell_type": "code",
   "execution_count": 106,
   "id": "afe69af9",
   "metadata": {},
   "outputs": [
    {
     "data": {
      "text/html": [
       "<div>\n",
       "<style scoped>\n",
       "    .dataframe tbody tr th:only-of-type {\n",
       "        vertical-align: middle;\n",
       "    }\n",
       "\n",
       "    .dataframe tbody tr th {\n",
       "        vertical-align: top;\n",
       "    }\n",
       "\n",
       "    .dataframe thead th {\n",
       "        text-align: right;\n",
       "    }\n",
       "</style>\n",
       "<table border=\"1\" class=\"dataframe\">\n",
       "  <thead>\n",
       "    <tr style=\"text-align: right;\">\n",
       "      <th></th>\n",
       "      <th>location</th>\n",
       "      <th>rank</th>\n",
       "      <th>happiness_score</th>\n",
       "      <th>gdp_per_capita</th>\n",
       "      <th>social_support</th>\n",
       "      <th>life_expectancy</th>\n",
       "      <th>freedom</th>\n",
       "      <th>trust_in_government</th>\n",
       "      <th>generosity</th>\n",
       "      <th>year</th>\n",
       "    </tr>\n",
       "  </thead>\n",
       "  <tbody>\n",
       "    <tr>\n",
       "      <th>0</th>\n",
       "      <td>Switzerland</td>\n",
       "      <td>1</td>\n",
       "      <td>7.587</td>\n",
       "      <td>1.39651</td>\n",
       "      <td>1.34951</td>\n",
       "      <td>0.94143</td>\n",
       "      <td>0.66557</td>\n",
       "      <td>0.41978</td>\n",
       "      <td>0.29678</td>\n",
       "      <td>2015.0</td>\n",
       "    </tr>\n",
       "    <tr>\n",
       "      <th>1</th>\n",
       "      <td>Iceland</td>\n",
       "      <td>2</td>\n",
       "      <td>7.561</td>\n",
       "      <td>1.30232</td>\n",
       "      <td>1.40223</td>\n",
       "      <td>0.94784</td>\n",
       "      <td>0.62877</td>\n",
       "      <td>0.14145</td>\n",
       "      <td>0.43630</td>\n",
       "      <td>2015.0</td>\n",
       "    </tr>\n",
       "    <tr>\n",
       "      <th>2</th>\n",
       "      <td>Denmark</td>\n",
       "      <td>3</td>\n",
       "      <td>7.527</td>\n",
       "      <td>1.32548</td>\n",
       "      <td>1.36058</td>\n",
       "      <td>0.87464</td>\n",
       "      <td>0.64938</td>\n",
       "      <td>0.48357</td>\n",
       "      <td>0.34139</td>\n",
       "      <td>2015.0</td>\n",
       "    </tr>\n",
       "    <tr>\n",
       "      <th>3</th>\n",
       "      <td>Norway</td>\n",
       "      <td>4</td>\n",
       "      <td>7.522</td>\n",
       "      <td>1.45900</td>\n",
       "      <td>1.33095</td>\n",
       "      <td>0.88521</td>\n",
       "      <td>0.66973</td>\n",
       "      <td>0.36503</td>\n",
       "      <td>0.34699</td>\n",
       "      <td>2015.0</td>\n",
       "    </tr>\n",
       "    <tr>\n",
       "      <th>4</th>\n",
       "      <td>Canada</td>\n",
       "      <td>5</td>\n",
       "      <td>7.427</td>\n",
       "      <td>1.32629</td>\n",
       "      <td>1.32261</td>\n",
       "      <td>0.90563</td>\n",
       "      <td>0.63297</td>\n",
       "      <td>0.32957</td>\n",
       "      <td>0.45811</td>\n",
       "      <td>2015.0</td>\n",
       "    </tr>\n",
       "  </tbody>\n",
       "</table>\n",
       "</div>"
      ],
      "text/plain": [
       "      location  rank  happiness_score  gdp_per_capita  social_support  \\\n",
       "0  Switzerland     1            7.587         1.39651         1.34951   \n",
       "1      Iceland     2            7.561         1.30232         1.40223   \n",
       "2      Denmark     3            7.527         1.32548         1.36058   \n",
       "3       Norway     4            7.522         1.45900         1.33095   \n",
       "4       Canada     5            7.427         1.32629         1.32261   \n",
       "\n",
       "   life_expectancy  freedom  trust_in_government  generosity    year  \n",
       "0          0.94143  0.66557              0.41978     0.29678  2015.0  \n",
       "1          0.94784  0.62877              0.14145     0.43630  2015.0  \n",
       "2          0.87464  0.64938              0.48357     0.34139  2015.0  \n",
       "3          0.88521  0.66973              0.36503     0.34699  2015.0  \n",
       "4          0.90563  0.63297              0.32957     0.45811  2015.0  "
      ]
     },
     "execution_count": 106,
     "metadata": {},
     "output_type": "execute_result"
    }
   ],
   "source": [
    "# checking the merged df\n",
    "df_all_wrang.head()"
   ]
  },
  {
   "cell_type": "code",
   "execution_count": 107,
   "id": "328b4f10",
   "metadata": {},
   "outputs": [
    {
     "data": {
      "text/plain": [
       "2015.0    158\n",
       "2016.0    157\n",
       "2018.0    156\n",
       "2019.0    156\n",
       "2017.0    155\n",
       "Name: year, dtype: int64"
      ]
     },
     "execution_count": 107,
     "metadata": {},
     "output_type": "execute_result"
    }
   ],
   "source": [
    "# checking for all 5 years\n",
    "df_all_wrang['year'].value_counts()"
   ]
  },
  {
   "cell_type": "code",
   "execution_count": 108,
   "id": "8966194d",
   "metadata": {},
   "outputs": [],
   "source": [
    "# changing year to int\n",
    "df_all_wrang['year'] = df_all_wrang['year'].astype(int)"
   ]
  },
  {
   "cell_type": "code",
   "execution_count": 110,
   "id": "edfb9d5a",
   "metadata": {},
   "outputs": [
    {
     "data": {
      "text/plain": [
       "2015    158\n",
       "2016    157\n",
       "2018    156\n",
       "2019    156\n",
       "2017    155\n",
       "Name: year, dtype: int64"
      ]
     },
     "execution_count": 110,
     "metadata": {},
     "output_type": "execute_result"
    }
   ],
   "source": [
    "# making sure year is an int\n",
    "df_all_wrang['year'].value_counts()"
   ]
  },
  {
   "cell_type": "markdown",
   "id": "a9f7d3be",
   "metadata": {},
   "source": [
    "# 4. Exporting Data"
   ]
  },
  {
   "cell_type": "code",
   "execution_count": 112,
   "id": "e1001e49",
   "metadata": {},
   "outputs": [],
   "source": [
    "df_all_wrang.to_csv(os.path.join(path, '02 Data', 'Prepared Data', 'all_years_wrangled.csv'))"
   ]
  },
  {
   "cell_type": "code",
   "execution_count": 118,
   "id": "d47b40e2",
   "metadata": {},
   "outputs": [
    {
     "data": {
      "text/plain": [
       "(782, 10)"
      ]
     },
     "execution_count": 118,
     "metadata": {},
     "output_type": "execute_result"
    }
   ],
   "source": [
    "df_all_wrang.shape"
   ]
  },
  {
   "cell_type": "code",
   "execution_count": null,
   "id": "1df8026d",
   "metadata": {},
   "outputs": [],
   "source": []
  }
 ],
 "metadata": {
  "kernelspec": {
   "display_name": "Python 3 (ipykernel)",
   "language": "python",
   "name": "python3"
  },
  "language_info": {
   "codemirror_mode": {
    "name": "ipython",
    "version": 3
   },
   "file_extension": ".py",
   "mimetype": "text/x-python",
   "name": "python",
   "nbconvert_exporter": "python",
   "pygments_lexer": "ipython3",
   "version": "3.9.13"
  }
 },
 "nbformat": 4,
 "nbformat_minor": 5
}
