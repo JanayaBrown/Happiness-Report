{
 "cells": [
  {
   "cell_type": "markdown",
   "id": "ee3af9bb",
   "metadata": {},
   "source": [
    "# 0. Content"
   ]
  },
  {
   "cell_type": "markdown",
   "id": "9107b0f9",
   "metadata": {},
   "source": [
    "This script contains the following time series analysis procedures:\n",
    "+ wrangling and subsetting data\n",
    "+ setting idex according to date\n",
    "+ Visual analysis of Stationarity\n",
    "+ Data decomposition\n",
    "+ Dickey_fuller test for Stationarity \n",
    "+ Standarization through differencing\n",
    "+ Autocorrelation analysis"
   ]
  },
  {
   "cell_type": "markdown",
   "id": "cb7a1b16",
   "metadata": {},
   "source": [
    "# 1. Importing Libraries and Data"
   ]
  },
  {
   "cell_type": "code",
   "execution_count": 48,
   "id": "d1a5c55e",
   "metadata": {},
   "outputs": [],
   "source": [
    "# importing libraries\n",
    "import pandas as pd\n",
    "import numpy as np\n",
    "import os\n",
    "import seaborn as sns\n",
    "import matplotlib\n",
    "import matplotlib.pyplot as plt\n",
    "import warnings \n",
    "from cycler import cycler\n",
    "from datetime import datetime\n",
    "import statsmodels.api as sm"
   ]
  },
  {
   "cell_type": "code",
   "execution_count": 49,
   "id": "baa89664",
   "metadata": {},
   "outputs": [],
   "source": [
    "# disabling warnnings \n",
    "warnings.filterwarnings(\"ignore\")"
   ]
  },
  {
   "cell_type": "code",
   "execution_count": 50,
   "id": "39d1a45c",
   "metadata": {},
   "outputs": [],
   "source": [
    "# setting plot style\n",
    "plt.style.use('fivethirtyeight')\n",
    "matplotlib.rcParams['axes.prop_cycle'] = cycler(color=['navy'])"
   ]
  },
  {
   "cell_type": "code",
   "execution_count": 51,
   "id": "cd250ec9",
   "metadata": {},
   "outputs": [],
   "source": [
    "# automatically show plots\n",
    "%matplotlib inline"
   ]
  },
  {
   "cell_type": "code",
   "execution_count": 52,
   "id": "d31d0b8f",
   "metadata": {},
   "outputs": [],
   "source": [
    "# creating main path\n",
    "path = r'C:\\Users\\muffi\\OneDrive\\CareerFoundry\\World Happiness Index Analysis 2023'"
   ]
  },
  {
   "cell_type": "code",
   "execution_count": 53,
   "id": "b16172d7",
   "metadata": {},
   "outputs": [
    {
     "data": {
      "text/plain": [
       "(1859, 14)"
      ]
     },
     "execution_count": 53,
     "metadata": {},
     "output_type": "execute_result"
    }
   ],
   "source": [
    "# importing World Happiness Report merged df\n",
    "df_whia = pd.read_csv(os.path.join(path, '02 Data', 'Prepared Data', 'all_years_merged.csv'))\n",
    "df_whia.shape"
   ]
  },
  {
   "cell_type": "markdown",
   "id": "44d2b3af",
   "metadata": {},
   "source": [
    "# 2. Visual Inspection of Stationarity"
   ]
  },
  {
   "cell_type": "code",
   "execution_count": 54,
   "id": "171d6107",
   "metadata": {},
   "outputs": [
    {
     "data": {
      "text/html": [
       "<div>\n",
       "<style scoped>\n",
       "    .dataframe tbody tr th:only-of-type {\n",
       "        vertical-align: middle;\n",
       "    }\n",
       "\n",
       "    .dataframe tbody tr th {\n",
       "        vertical-align: top;\n",
       "    }\n",
       "\n",
       "    .dataframe thead th {\n",
       "        text-align: right;\n",
       "    }\n",
       "</style>\n",
       "<table border=\"1\" class=\"dataframe\">\n",
       "  <thead>\n",
       "    <tr style=\"text-align: right;\">\n",
       "      <th></th>\n",
       "      <th>Unnamed: 0</th>\n",
       "      <th>country</th>\n",
       "      <th>region</th>\n",
       "      <th>year</th>\n",
       "      <th>happiness_score</th>\n",
       "      <th>log_gdp_score</th>\n",
       "      <th>social_support_score</th>\n",
       "      <th>life_expectancy_at_birth</th>\n",
       "      <th>freedom_score</th>\n",
       "      <th>generosity_score</th>\n",
       "      <th>corruption_score</th>\n",
       "      <th>gdp_usd</th>\n",
       "      <th>gdp_capita_usd</th>\n",
       "      <th>population</th>\n",
       "    </tr>\n",
       "  </thead>\n",
       "  <tbody>\n",
       "    <tr>\n",
       "      <th>0</th>\n",
       "      <td>0</td>\n",
       "      <td>Afghanistan</td>\n",
       "      <td>South Asia</td>\n",
       "      <td>2008</td>\n",
       "      <td>3.723590</td>\n",
       "      <td>7.350416</td>\n",
       "      <td>0.450662</td>\n",
       "      <td>50.500000</td>\n",
       "      <td>0.718114</td>\n",
       "      <td>0.167652</td>\n",
       "      <td>0.881686</td>\n",
       "      <td>1.010931e+10</td>\n",
       "      <td>364.663542</td>\n",
       "      <td>2.772228e+07</td>\n",
       "    </tr>\n",
       "    <tr>\n",
       "      <th>1</th>\n",
       "      <td>1</td>\n",
       "      <td>Afghanistan</td>\n",
       "      <td>South Asia</td>\n",
       "      <td>2009</td>\n",
       "      <td>4.401778</td>\n",
       "      <td>7.508646</td>\n",
       "      <td>0.552308</td>\n",
       "      <td>50.799999</td>\n",
       "      <td>0.678896</td>\n",
       "      <td>0.190809</td>\n",
       "      <td>0.850035</td>\n",
       "      <td>1.241616e+10</td>\n",
       "      <td>437.268740</td>\n",
       "      <td>2.839481e+07</td>\n",
       "    </tr>\n",
       "    <tr>\n",
       "      <th>2</th>\n",
       "      <td>2</td>\n",
       "      <td>Afghanistan</td>\n",
       "      <td>South Asia</td>\n",
       "      <td>2010</td>\n",
       "      <td>4.758381</td>\n",
       "      <td>7.613900</td>\n",
       "      <td>0.539075</td>\n",
       "      <td>51.099998</td>\n",
       "      <td>0.600127</td>\n",
       "      <td>0.121316</td>\n",
       "      <td>0.706766</td>\n",
       "      <td>1.585668e+10</td>\n",
       "      <td>543.306526</td>\n",
       "      <td>2.918551e+07</td>\n",
       "    </tr>\n",
       "    <tr>\n",
       "      <th>3</th>\n",
       "      <td>3</td>\n",
       "      <td>Afghanistan</td>\n",
       "      <td>South Asia</td>\n",
       "      <td>2011</td>\n",
       "      <td>3.831719</td>\n",
       "      <td>7.581259</td>\n",
       "      <td>0.521104</td>\n",
       "      <td>51.400002</td>\n",
       "      <td>0.495901</td>\n",
       "      <td>0.163571</td>\n",
       "      <td>0.731109</td>\n",
       "      <td>1.780511e+10</td>\n",
       "      <td>591.190030</td>\n",
       "      <td>3.011741e+07</td>\n",
       "    </tr>\n",
       "    <tr>\n",
       "      <th>4</th>\n",
       "      <td>4</td>\n",
       "      <td>Afghanistan</td>\n",
       "      <td>South Asia</td>\n",
       "      <td>2012</td>\n",
       "      <td>3.782938</td>\n",
       "      <td>7.660506</td>\n",
       "      <td>0.520637</td>\n",
       "      <td>51.700001</td>\n",
       "      <td>0.530935</td>\n",
       "      <td>0.237588</td>\n",
       "      <td>0.775620</td>\n",
       "      <td>1.990732e+10</td>\n",
       "      <td>638.845852</td>\n",
       "      <td>3.116138e+07</td>\n",
       "    </tr>\n",
       "  </tbody>\n",
       "</table>\n",
       "</div>"
      ],
      "text/plain": [
       "   Unnamed: 0      country      region  year  happiness_score  log_gdp_score  \\\n",
       "0           0  Afghanistan  South Asia  2008         3.723590       7.350416   \n",
       "1           1  Afghanistan  South Asia  2009         4.401778       7.508646   \n",
       "2           2  Afghanistan  South Asia  2010         4.758381       7.613900   \n",
       "3           3  Afghanistan  South Asia  2011         3.831719       7.581259   \n",
       "4           4  Afghanistan  South Asia  2012         3.782938       7.660506   \n",
       "\n",
       "   social_support_score  life_expectancy_at_birth  freedom_score  \\\n",
       "0              0.450662                 50.500000       0.718114   \n",
       "1              0.552308                 50.799999       0.678896   \n",
       "2              0.539075                 51.099998       0.600127   \n",
       "3              0.521104                 51.400002       0.495901   \n",
       "4              0.520637                 51.700001       0.530935   \n",
       "\n",
       "   generosity_score  corruption_score       gdp_usd  gdp_capita_usd  \\\n",
       "0          0.167652          0.881686  1.010931e+10      364.663542   \n",
       "1          0.190809          0.850035  1.241616e+10      437.268740   \n",
       "2          0.121316          0.706766  1.585668e+10      543.306526   \n",
       "3          0.163571          0.731109  1.780511e+10      591.190030   \n",
       "4          0.237588          0.775620  1.990732e+10      638.845852   \n",
       "\n",
       "     population  \n",
       "0  2.772228e+07  \n",
       "1  2.839481e+07  \n",
       "2  2.918551e+07  \n",
       "3  3.011741e+07  \n",
       "4  3.116138e+07  "
      ]
     },
     "execution_count": 54,
     "metadata": {},
     "output_type": "execute_result"
    }
   ],
   "source": [
    "df_whia.head()"
   ]
  },
  {
   "cell_type": "markdown",
   "id": "171753f8",
   "metadata": {},
   "source": [
    "## 2.1. Wrangling and Subseting "
   ]
  },
  {
   "cell_type": "code",
   "execution_count": 8,
   "id": "d033ab5a",
   "metadata": {},
   "outputs": [
    {
     "data": {
      "text/plain": [
       "Index(['Unnamed: 0', 'year', 'happiness_score', 'log_gdp_score',\n",
       "       'social_support_score', 'life_expectancy_at_birth', 'freedom_score',\n",
       "       'generosity_score', 'corruption_score', 'gdp_usd', 'gdp_capita_usd',\n",
       "       'population'],\n",
       "      dtype='object')"
      ]
     },
     "execution_count": 8,
     "metadata": {},
     "output_type": "execute_result"
    }
   ],
   "source": [
    "# checing columns\n",
    "df_whia.columns"
   ]
  },
  {
   "cell_type": "code",
   "execution_count": 55,
   "id": "6f28018e",
   "metadata": {},
   "outputs": [],
   "source": [
    "# drop unnamed, country name, region, and population\n",
    "df_whia_rel = df_whia.drop(columns = ['Unnamed: 0', 'country', 'region', 'population'])"
   ]
  },
  {
   "cell_type": "code",
   "execution_count": 56,
   "id": "8a8b9dd8",
   "metadata": {},
   "outputs": [
    {
     "data": {
      "text/plain": [
       "Index(['year', 'happiness_score', 'log_gdp_score', 'social_support_score',\n",
       "       'life_expectancy_at_birth', 'freedom_score', 'generosity_score',\n",
       "       'corruption_score', 'gdp_usd', 'gdp_capita_usd'],\n",
       "      dtype='object')"
      ]
     },
     "execution_count": 56,
     "metadata": {},
     "output_type": "execute_result"
    }
   ],
   "source": [
    "# checking columns\n",
    "df_whia_rel.columns"
   ]
  },
  {
   "cell_type": "code",
   "execution_count": 57,
   "id": "8dc37730",
   "metadata": {},
   "outputs": [
    {
     "data": {
      "text/html": [
       "<div>\n",
       "<style scoped>\n",
       "    .dataframe tbody tr th:only-of-type {\n",
       "        vertical-align: middle;\n",
       "    }\n",
       "\n",
       "    .dataframe tbody tr th {\n",
       "        vertical-align: top;\n",
       "    }\n",
       "\n",
       "    .dataframe thead th {\n",
       "        text-align: right;\n",
       "    }\n",
       "</style>\n",
       "<table border=\"1\" class=\"dataframe\">\n",
       "  <thead>\n",
       "    <tr style=\"text-align: right;\">\n",
       "      <th></th>\n",
       "      <th>year</th>\n",
       "      <th>happiness_score</th>\n",
       "      <th>log_gdp_score</th>\n",
       "      <th>social_support_score</th>\n",
       "      <th>life_expectancy_at_birth</th>\n",
       "      <th>freedom_score</th>\n",
       "      <th>generosity_score</th>\n",
       "      <th>corruption_score</th>\n",
       "      <th>gdp_usd</th>\n",
       "      <th>gdp_capita_usd</th>\n",
       "    </tr>\n",
       "  </thead>\n",
       "  <tbody>\n",
       "    <tr>\n",
       "      <th>0</th>\n",
       "      <td>2008</td>\n",
       "      <td>3.723590</td>\n",
       "      <td>7.350416</td>\n",
       "      <td>0.450662</td>\n",
       "      <td>50.500000</td>\n",
       "      <td>0.718114</td>\n",
       "      <td>0.167652</td>\n",
       "      <td>0.881686</td>\n",
       "      <td>1.010931e+10</td>\n",
       "      <td>364.663542</td>\n",
       "    </tr>\n",
       "    <tr>\n",
       "      <th>1</th>\n",
       "      <td>2009</td>\n",
       "      <td>4.401778</td>\n",
       "      <td>7.508646</td>\n",
       "      <td>0.552308</td>\n",
       "      <td>50.799999</td>\n",
       "      <td>0.678896</td>\n",
       "      <td>0.190809</td>\n",
       "      <td>0.850035</td>\n",
       "      <td>1.241616e+10</td>\n",
       "      <td>437.268740</td>\n",
       "    </tr>\n",
       "    <tr>\n",
       "      <th>2</th>\n",
       "      <td>2010</td>\n",
       "      <td>4.758381</td>\n",
       "      <td>7.613900</td>\n",
       "      <td>0.539075</td>\n",
       "      <td>51.099998</td>\n",
       "      <td>0.600127</td>\n",
       "      <td>0.121316</td>\n",
       "      <td>0.706766</td>\n",
       "      <td>1.585668e+10</td>\n",
       "      <td>543.306526</td>\n",
       "    </tr>\n",
       "    <tr>\n",
       "      <th>3</th>\n",
       "      <td>2011</td>\n",
       "      <td>3.831719</td>\n",
       "      <td>7.581259</td>\n",
       "      <td>0.521104</td>\n",
       "      <td>51.400002</td>\n",
       "      <td>0.495901</td>\n",
       "      <td>0.163571</td>\n",
       "      <td>0.731109</td>\n",
       "      <td>1.780511e+10</td>\n",
       "      <td>591.190030</td>\n",
       "    </tr>\n",
       "    <tr>\n",
       "      <th>4</th>\n",
       "      <td>2012</td>\n",
       "      <td>3.782938</td>\n",
       "      <td>7.660506</td>\n",
       "      <td>0.520637</td>\n",
       "      <td>51.700001</td>\n",
       "      <td>0.530935</td>\n",
       "      <td>0.237588</td>\n",
       "      <td>0.775620</td>\n",
       "      <td>1.990732e+10</td>\n",
       "      <td>638.845852</td>\n",
       "    </tr>\n",
       "  </tbody>\n",
       "</table>\n",
       "</div>"
      ],
      "text/plain": [
       "   year  happiness_score  log_gdp_score  social_support_score  \\\n",
       "0  2008         3.723590       7.350416              0.450662   \n",
       "1  2009         4.401778       7.508646              0.552308   \n",
       "2  2010         4.758381       7.613900              0.539075   \n",
       "3  2011         3.831719       7.581259              0.521104   \n",
       "4  2012         3.782938       7.660506              0.520637   \n",
       "\n",
       "   life_expectancy_at_birth  freedom_score  generosity_score  \\\n",
       "0                 50.500000       0.718114          0.167652   \n",
       "1                 50.799999       0.678896          0.190809   \n",
       "2                 51.099998       0.600127          0.121316   \n",
       "3                 51.400002       0.495901          0.163571   \n",
       "4                 51.700001       0.530935          0.237588   \n",
       "\n",
       "   corruption_score       gdp_usd  gdp_capita_usd  \n",
       "0          0.881686  1.010931e+10      364.663542  \n",
       "1          0.850035  1.241616e+10      437.268740  \n",
       "2          0.706766  1.585668e+10      543.306526  \n",
       "3          0.731109  1.780511e+10      591.190030  \n",
       "4          0.775620  1.990732e+10      638.845852  "
      ]
     },
     "execution_count": 57,
     "metadata": {},
     "output_type": "execute_result"
    }
   ],
   "source": [
    "# snapshot of df\n",
    "df_whia_rel.head()"
   ]
  },
  {
   "cell_type": "code",
   "execution_count": 58,
   "id": "b6eb1659",
   "metadata": {},
   "outputs": [],
   "source": [
    "# creating world averages \n",
    "df_sub = df_whia_rel.groupby('year').agg({'happiness_score':['mean'], \n",
    "                                            'log_gdp_score':['mean'], \n",
    "                                            'social_support_score':['mean'],\n",
    "                                            'life_expectancy_at_birth':['mean'], \n",
    "                                            'freedom_score':['mean'], \n",
    "                                            'generosity_score':['mean'],\n",
    "                                            'corruption_score':['mean'], \n",
    "                                            'gdp_usd':['mean'], \n",
    "                                            'gdp_capita_usd':['mean']})"
   ]
  },
  {
   "cell_type": "code",
   "execution_count": 59,
   "id": "45155ef3",
   "metadata": {},
   "outputs": [
    {
     "data": {
      "text/html": [
       "<div>\n",
       "<style scoped>\n",
       "    .dataframe tbody tr th:only-of-type {\n",
       "        vertical-align: middle;\n",
       "    }\n",
       "\n",
       "    .dataframe tbody tr th {\n",
       "        vertical-align: top;\n",
       "    }\n",
       "\n",
       "    .dataframe thead tr th {\n",
       "        text-align: left;\n",
       "    }\n",
       "\n",
       "    .dataframe thead tr:last-of-type th {\n",
       "        text-align: right;\n",
       "    }\n",
       "</style>\n",
       "<table border=\"1\" class=\"dataframe\">\n",
       "  <thead>\n",
       "    <tr>\n",
       "      <th></th>\n",
       "      <th>happiness_score</th>\n",
       "      <th>log_gdp_score</th>\n",
       "      <th>social_support_score</th>\n",
       "      <th>life_expectancy_at_birth</th>\n",
       "      <th>freedom_score</th>\n",
       "      <th>generosity_score</th>\n",
       "      <th>corruption_score</th>\n",
       "      <th>gdp_usd</th>\n",
       "      <th>gdp_capita_usd</th>\n",
       "    </tr>\n",
       "    <tr>\n",
       "      <th></th>\n",
       "      <th>mean</th>\n",
       "      <th>mean</th>\n",
       "      <th>mean</th>\n",
       "      <th>mean</th>\n",
       "      <th>mean</th>\n",
       "      <th>mean</th>\n",
       "      <th>mean</th>\n",
       "      <th>mean</th>\n",
       "      <th>mean</th>\n",
       "    </tr>\n",
       "    <tr>\n",
       "      <th>year</th>\n",
       "      <th></th>\n",
       "      <th></th>\n",
       "      <th></th>\n",
       "      <th></th>\n",
       "      <th></th>\n",
       "      <th></th>\n",
       "      <th></th>\n",
       "      <th></th>\n",
       "      <th></th>\n",
       "    </tr>\n",
       "  </thead>\n",
       "  <tbody>\n",
       "    <tr>\n",
       "      <th>2005</th>\n",
       "      <td>6.520070</td>\n",
       "      <td>10.227259</td>\n",
       "      <td>0.901785</td>\n",
       "      <td>67.217391</td>\n",
       "      <td>0.828878</td>\n",
       "      <td>0.010876</td>\n",
       "      <td>0.712394</td>\n",
       "      <td>9.805092e+11</td>\n",
       "      <td>23368.532534</td>\n",
       "    </tr>\n",
       "    <tr>\n",
       "      <th>2006</th>\n",
       "      <td>5.178841</td>\n",
       "      <td>9.017771</td>\n",
       "      <td>0.833216</td>\n",
       "      <td>59.780750</td>\n",
       "      <td>0.733488</td>\n",
       "      <td>0.002766</td>\n",
       "      <td>0.753070</td>\n",
       "      <td>3.192610e+11</td>\n",
       "      <td>9584.741083</td>\n",
       "    </tr>\n",
       "    <tr>\n",
       "      <th>2007</th>\n",
       "      <td>5.436653</td>\n",
       "      <td>9.194647</td>\n",
       "      <td>0.808781</td>\n",
       "      <td>61.516716</td>\n",
       "      <td>0.692376</td>\n",
       "      <td>0.012341</td>\n",
       "      <td>0.787356</td>\n",
       "      <td>5.110201e+11</td>\n",
       "      <td>10613.865755</td>\n",
       "    </tr>\n",
       "    <tr>\n",
       "      <th>2008</th>\n",
       "      <td>5.459385</td>\n",
       "      <td>9.158063</td>\n",
       "      <td>0.787268</td>\n",
       "      <td>60.984434</td>\n",
       "      <td>0.693788</td>\n",
       "      <td>0.021365</td>\n",
       "      <td>0.764754</td>\n",
       "      <td>5.641483e+11</td>\n",
       "      <td>14152.255460</td>\n",
       "    </tr>\n",
       "    <tr>\n",
       "      <th>2009</th>\n",
       "      <td>5.502089</td>\n",
       "      <td>9.309361</td>\n",
       "      <td>0.820121</td>\n",
       "      <td>62.721319</td>\n",
       "      <td>0.690621</td>\n",
       "      <td>-0.003424</td>\n",
       "      <td>0.763477</td>\n",
       "      <td>5.071872e+11</td>\n",
       "      <td>12943.130407</td>\n",
       "    </tr>\n",
       "  </tbody>\n",
       "</table>\n",
       "</div>"
      ],
      "text/plain": [
       "     happiness_score log_gdp_score social_support_score  \\\n",
       "                mean          mean                 mean   \n",
       "year                                                      \n",
       "2005        6.520070     10.227259             0.901785   \n",
       "2006        5.178841      9.017771             0.833216   \n",
       "2007        5.436653      9.194647             0.808781   \n",
       "2008        5.459385      9.158063             0.787268   \n",
       "2009        5.502089      9.309361             0.820121   \n",
       "\n",
       "     life_expectancy_at_birth freedom_score generosity_score corruption_score  \\\n",
       "                         mean          mean             mean             mean   \n",
       "year                                                                            \n",
       "2005                67.217391      0.828878         0.010876         0.712394   \n",
       "2006                59.780750      0.733488         0.002766         0.753070   \n",
       "2007                61.516716      0.692376         0.012341         0.787356   \n",
       "2008                60.984434      0.693788         0.021365         0.764754   \n",
       "2009                62.721319      0.690621        -0.003424         0.763477   \n",
       "\n",
       "           gdp_usd gdp_capita_usd  \n",
       "              mean           mean  \n",
       "year                               \n",
       "2005  9.805092e+11   23368.532534  \n",
       "2006  3.192610e+11    9584.741083  \n",
       "2007  5.110201e+11   10613.865755  \n",
       "2008  5.641483e+11   14152.255460  \n",
       "2009  5.071872e+11   12943.130407  "
      ]
     },
     "execution_count": 59,
     "metadata": {},
     "output_type": "execute_result"
    }
   ],
   "source": [
    "# checking new df\n",
    "df_sub.head()"
   ]
  },
  {
   "cell_type": "code",
   "execution_count": 60,
   "id": "79aac7c9",
   "metadata": {},
   "outputs": [
    {
     "name": "stdout",
     "output_type": "stream",
     "text": [
      "<class 'pandas.core.frame.DataFrame'>\n",
      "Int64Index: 17 entries, 2005 to 2021\n",
      "Data columns (total 9 columns):\n",
      " #   Column                            Non-Null Count  Dtype  \n",
      "---  ------                            --------------  -----  \n",
      " 0   (happiness_score, mean)           17 non-null     float64\n",
      " 1   (log_gdp_score, mean)             17 non-null     float64\n",
      " 2   (social_support_score, mean)      17 non-null     float64\n",
      " 3   (life_expectancy_at_birth, mean)  17 non-null     float64\n",
      " 4   (freedom_score, mean)             17 non-null     float64\n",
      " 5   (generosity_score, mean)          17 non-null     float64\n",
      " 6   (corruption_score, mean)          17 non-null     float64\n",
      " 7   (gdp_usd, mean)                   17 non-null     float64\n",
      " 8   (gdp_capita_usd, mean)            17 non-null     float64\n",
      "dtypes: float64(9)\n",
      "memory usage: 1.3 KB\n"
     ]
    }
   ],
   "source": [
    "# makign sure it's a df\n",
    "df_sub.info()"
   ]
  },
  {
   "cell_type": "markdown",
   "id": "52ffa049",
   "metadata": {},
   "source": [
    "## 2.2. Setting the Data as the Index"
   ]
  },
  {
   "cell_type": "code",
   "execution_count": 61,
   "id": "605a8106",
   "metadata": {},
   "outputs": [],
   "source": [
    "# creating a datetime col from the year\n",
    "df_sub['date'] = np.arange(2005, 2022, 1)"
   ]
  },
  {
   "cell_type": "code",
   "execution_count": 62,
   "id": "e9dd0270",
   "metadata": {},
   "outputs": [],
   "source": [
    "df_sub['datetime'] = pd.to_datetime(df_sub['date'], format='%Y')"
   ]
  },
  {
   "cell_type": "code",
   "execution_count": 63,
   "id": "a738c290",
   "metadata": {},
   "outputs": [],
   "source": [
    "# set the datetime as the index\n",
    "df_sub = df_sub.set_index('datetime')"
   ]
  },
  {
   "cell_type": "code",
   "execution_count": 64,
   "id": "c9946214",
   "metadata": {},
   "outputs": [],
   "source": [
    "# drop the year col\n",
    "df_sub.drop(columns = [ 'date'], inplace=True)"
   ]
  },
  {
   "cell_type": "code",
   "execution_count": 65,
   "id": "0f3e63a5",
   "metadata": {},
   "outputs": [
    {
     "data": {
      "text/html": [
       "<div>\n",
       "<style scoped>\n",
       "    .dataframe tbody tr th:only-of-type {\n",
       "        vertical-align: middle;\n",
       "    }\n",
       "\n",
       "    .dataframe tbody tr th {\n",
       "        vertical-align: top;\n",
       "    }\n",
       "\n",
       "    .dataframe thead tr th {\n",
       "        text-align: left;\n",
       "    }\n",
       "\n",
       "    .dataframe thead tr:last-of-type th {\n",
       "        text-align: right;\n",
       "    }\n",
       "</style>\n",
       "<table border=\"1\" class=\"dataframe\">\n",
       "  <thead>\n",
       "    <tr>\n",
       "      <th></th>\n",
       "      <th>happiness_score</th>\n",
       "      <th>log_gdp_score</th>\n",
       "      <th>social_support_score</th>\n",
       "      <th>life_expectancy_at_birth</th>\n",
       "      <th>freedom_score</th>\n",
       "      <th>generosity_score</th>\n",
       "      <th>corruption_score</th>\n",
       "      <th>gdp_usd</th>\n",
       "      <th>gdp_capita_usd</th>\n",
       "    </tr>\n",
       "    <tr>\n",
       "      <th></th>\n",
       "      <th>mean</th>\n",
       "      <th>mean</th>\n",
       "      <th>mean</th>\n",
       "      <th>mean</th>\n",
       "      <th>mean</th>\n",
       "      <th>mean</th>\n",
       "      <th>mean</th>\n",
       "      <th>mean</th>\n",
       "      <th>mean</th>\n",
       "    </tr>\n",
       "    <tr>\n",
       "      <th>datetime</th>\n",
       "      <th></th>\n",
       "      <th></th>\n",
       "      <th></th>\n",
       "      <th></th>\n",
       "      <th></th>\n",
       "      <th></th>\n",
       "      <th></th>\n",
       "      <th></th>\n",
       "      <th></th>\n",
       "    </tr>\n",
       "  </thead>\n",
       "  <tbody>\n",
       "    <tr>\n",
       "      <th>2005-01-01</th>\n",
       "      <td>6.520070</td>\n",
       "      <td>10.227259</td>\n",
       "      <td>0.901785</td>\n",
       "      <td>67.217391</td>\n",
       "      <td>0.828878</td>\n",
       "      <td>0.010876</td>\n",
       "      <td>0.712394</td>\n",
       "      <td>9.805092e+11</td>\n",
       "      <td>23368.532534</td>\n",
       "    </tr>\n",
       "    <tr>\n",
       "      <th>2006-01-01</th>\n",
       "      <td>5.178841</td>\n",
       "      <td>9.017771</td>\n",
       "      <td>0.833216</td>\n",
       "      <td>59.780750</td>\n",
       "      <td>0.733488</td>\n",
       "      <td>0.002766</td>\n",
       "      <td>0.753070</td>\n",
       "      <td>3.192610e+11</td>\n",
       "      <td>9584.741083</td>\n",
       "    </tr>\n",
       "    <tr>\n",
       "      <th>2007-01-01</th>\n",
       "      <td>5.436653</td>\n",
       "      <td>9.194647</td>\n",
       "      <td>0.808781</td>\n",
       "      <td>61.516716</td>\n",
       "      <td>0.692376</td>\n",
       "      <td>0.012341</td>\n",
       "      <td>0.787356</td>\n",
       "      <td>5.110201e+11</td>\n",
       "      <td>10613.865755</td>\n",
       "    </tr>\n",
       "    <tr>\n",
       "      <th>2008-01-01</th>\n",
       "      <td>5.459385</td>\n",
       "      <td>9.158063</td>\n",
       "      <td>0.787268</td>\n",
       "      <td>60.984434</td>\n",
       "      <td>0.693788</td>\n",
       "      <td>0.021365</td>\n",
       "      <td>0.764754</td>\n",
       "      <td>5.641483e+11</td>\n",
       "      <td>14152.255460</td>\n",
       "    </tr>\n",
       "    <tr>\n",
       "      <th>2009-01-01</th>\n",
       "      <td>5.502089</td>\n",
       "      <td>9.309361</td>\n",
       "      <td>0.820121</td>\n",
       "      <td>62.721319</td>\n",
       "      <td>0.690621</td>\n",
       "      <td>-0.003424</td>\n",
       "      <td>0.763477</td>\n",
       "      <td>5.071872e+11</td>\n",
       "      <td>12943.130407</td>\n",
       "    </tr>\n",
       "    <tr>\n",
       "      <th>2010-01-01</th>\n",
       "      <td>5.500975</td>\n",
       "      <td>9.383516</td>\n",
       "      <td>0.827932</td>\n",
       "      <td>62.755807</td>\n",
       "      <td>0.711969</td>\n",
       "      <td>0.005430</td>\n",
       "      <td>0.755926</td>\n",
       "      <td>5.363380e+11</td>\n",
       "      <td>14491.754669</td>\n",
       "    </tr>\n",
       "    <tr>\n",
       "      <th>2011-01-01</th>\n",
       "      <td>5.456457</td>\n",
       "      <td>9.303153</td>\n",
       "      <td>0.806033</td>\n",
       "      <td>61.993446</td>\n",
       "      <td>0.734354</td>\n",
       "      <td>-0.017920</td>\n",
       "      <td>0.755429</td>\n",
       "      <td>5.106846e+11</td>\n",
       "      <td>14758.705741</td>\n",
       "    </tr>\n",
       "    <tr>\n",
       "      <th>2012-01-01</th>\n",
       "      <td>5.488865</td>\n",
       "      <td>9.421068</td>\n",
       "      <td>0.812938</td>\n",
       "      <td>63.133021</td>\n",
       "      <td>0.716946</td>\n",
       "      <td>-0.001875</td>\n",
       "      <td>0.755991</td>\n",
       "      <td>5.524920e+11</td>\n",
       "      <td>16260.855534</td>\n",
       "    </tr>\n",
       "    <tr>\n",
       "      <th>2013-01-01</th>\n",
       "      <td>5.441522</td>\n",
       "      <td>9.408813</td>\n",
       "      <td>0.809846</td>\n",
       "      <td>63.305740</td>\n",
       "      <td>0.740911</td>\n",
       "      <td>0.004211</td>\n",
       "      <td>0.754514</td>\n",
       "      <td>5.710000e+11</td>\n",
       "      <td>15364.390717</td>\n",
       "    </tr>\n",
       "    <tr>\n",
       "      <th>2014-01-01</th>\n",
       "      <td>5.408169</td>\n",
       "      <td>9.369693</td>\n",
       "      <td>0.807444</td>\n",
       "      <td>63.196082</td>\n",
       "      <td>0.740892</td>\n",
       "      <td>0.021827</td>\n",
       "      <td>0.732804</td>\n",
       "      <td>5.583360e+11</td>\n",
       "      <td>15644.006433</td>\n",
       "    </tr>\n",
       "    <tr>\n",
       "      <th>2015-01-01</th>\n",
       "      <td>5.447037</td>\n",
       "      <td>9.423666</td>\n",
       "      <td>0.801972</td>\n",
       "      <td>63.569249</td>\n",
       "      <td>0.758079</td>\n",
       "      <td>0.023450</td>\n",
       "      <td>0.728585</td>\n",
       "      <td>5.441210e+11</td>\n",
       "      <td>14845.353950</td>\n",
       "    </tr>\n",
       "    <tr>\n",
       "      <th>2016-01-01</th>\n",
       "      <td>5.430959</td>\n",
       "      <td>9.410524</td>\n",
       "      <td>0.811750</td>\n",
       "      <td>63.534481</td>\n",
       "      <td>0.770886</td>\n",
       "      <td>0.003810</td>\n",
       "      <td>0.739731</td>\n",
       "      <td>5.558431e+11</td>\n",
       "      <td>14554.688385</td>\n",
       "    </tr>\n",
       "    <tr>\n",
       "      <th>2017-01-01</th>\n",
       "      <td>5.508849</td>\n",
       "      <td>9.441186</td>\n",
       "      <td>0.807611</td>\n",
       "      <td>63.743420</td>\n",
       "      <td>0.787266</td>\n",
       "      <td>-0.007266</td>\n",
       "      <td>0.725722</td>\n",
       "      <td>5.733505e+11</td>\n",
       "      <td>15261.138395</td>\n",
       "    </tr>\n",
       "    <tr>\n",
       "      <th>2018-01-01</th>\n",
       "      <td>5.535605</td>\n",
       "      <td>9.434593</td>\n",
       "      <td>0.814306</td>\n",
       "      <td>63.992814</td>\n",
       "      <td>0.791929</td>\n",
       "      <td>-0.027817</td>\n",
       "      <td>0.728998</td>\n",
       "      <td>6.305931e+11</td>\n",
       "      <td>15713.219376</td>\n",
       "    </tr>\n",
       "    <tr>\n",
       "      <th>2019-01-01</th>\n",
       "      <td>5.602535</td>\n",
       "      <td>9.502058</td>\n",
       "      <td>0.818534</td>\n",
       "      <td>64.301520</td>\n",
       "      <td>0.801632</td>\n",
       "      <td>-0.025367</td>\n",
       "      <td>0.720157</td>\n",
       "      <td>6.305627e+11</td>\n",
       "      <td>16198.771355</td>\n",
       "    </tr>\n",
       "    <tr>\n",
       "      <th>2020-01-01</th>\n",
       "      <td>5.746248</td>\n",
       "      <td>9.634792</td>\n",
       "      <td>0.826520</td>\n",
       "      <td>65.640481</td>\n",
       "      <td>0.814778</td>\n",
       "      <td>-0.003795</td>\n",
       "      <td>0.723507</td>\n",
       "      <td>7.522713e+11</td>\n",
       "      <td>16556.227139</td>\n",
       "    </tr>\n",
       "    <tr>\n",
       "      <th>2021-01-01</th>\n",
       "      <td>5.658143</td>\n",
       "      <td>9.592389</td>\n",
       "      <td>0.805887</td>\n",
       "      <td>65.463712</td>\n",
       "      <td>0.792602</td>\n",
       "      <td>0.035144</td>\n",
       "      <td>0.724696</td>\n",
       "      <td>8.065956e+11</td>\n",
       "      <td>18352.824530</td>\n",
       "    </tr>\n",
       "  </tbody>\n",
       "</table>\n",
       "</div>"
      ],
      "text/plain": [
       "           happiness_score log_gdp_score social_support_score  \\\n",
       "                      mean          mean                 mean   \n",
       "datetime                                                        \n",
       "2005-01-01        6.520070     10.227259             0.901785   \n",
       "2006-01-01        5.178841      9.017771             0.833216   \n",
       "2007-01-01        5.436653      9.194647             0.808781   \n",
       "2008-01-01        5.459385      9.158063             0.787268   \n",
       "2009-01-01        5.502089      9.309361             0.820121   \n",
       "2010-01-01        5.500975      9.383516             0.827932   \n",
       "2011-01-01        5.456457      9.303153             0.806033   \n",
       "2012-01-01        5.488865      9.421068             0.812938   \n",
       "2013-01-01        5.441522      9.408813             0.809846   \n",
       "2014-01-01        5.408169      9.369693             0.807444   \n",
       "2015-01-01        5.447037      9.423666             0.801972   \n",
       "2016-01-01        5.430959      9.410524             0.811750   \n",
       "2017-01-01        5.508849      9.441186             0.807611   \n",
       "2018-01-01        5.535605      9.434593             0.814306   \n",
       "2019-01-01        5.602535      9.502058             0.818534   \n",
       "2020-01-01        5.746248      9.634792             0.826520   \n",
       "2021-01-01        5.658143      9.592389             0.805887   \n",
       "\n",
       "           life_expectancy_at_birth freedom_score generosity_score  \\\n",
       "                               mean          mean             mean   \n",
       "datetime                                                             \n",
       "2005-01-01                67.217391      0.828878         0.010876   \n",
       "2006-01-01                59.780750      0.733488         0.002766   \n",
       "2007-01-01                61.516716      0.692376         0.012341   \n",
       "2008-01-01                60.984434      0.693788         0.021365   \n",
       "2009-01-01                62.721319      0.690621        -0.003424   \n",
       "2010-01-01                62.755807      0.711969         0.005430   \n",
       "2011-01-01                61.993446      0.734354        -0.017920   \n",
       "2012-01-01                63.133021      0.716946        -0.001875   \n",
       "2013-01-01                63.305740      0.740911         0.004211   \n",
       "2014-01-01                63.196082      0.740892         0.021827   \n",
       "2015-01-01                63.569249      0.758079         0.023450   \n",
       "2016-01-01                63.534481      0.770886         0.003810   \n",
       "2017-01-01                63.743420      0.787266        -0.007266   \n",
       "2018-01-01                63.992814      0.791929        -0.027817   \n",
       "2019-01-01                64.301520      0.801632        -0.025367   \n",
       "2020-01-01                65.640481      0.814778        -0.003795   \n",
       "2021-01-01                65.463712      0.792602         0.035144   \n",
       "\n",
       "           corruption_score       gdp_usd gdp_capita_usd  \n",
       "                       mean          mean           mean  \n",
       "datetime                                                  \n",
       "2005-01-01         0.712394  9.805092e+11   23368.532534  \n",
       "2006-01-01         0.753070  3.192610e+11    9584.741083  \n",
       "2007-01-01         0.787356  5.110201e+11   10613.865755  \n",
       "2008-01-01         0.764754  5.641483e+11   14152.255460  \n",
       "2009-01-01         0.763477  5.071872e+11   12943.130407  \n",
       "2010-01-01         0.755926  5.363380e+11   14491.754669  \n",
       "2011-01-01         0.755429  5.106846e+11   14758.705741  \n",
       "2012-01-01         0.755991  5.524920e+11   16260.855534  \n",
       "2013-01-01         0.754514  5.710000e+11   15364.390717  \n",
       "2014-01-01         0.732804  5.583360e+11   15644.006433  \n",
       "2015-01-01         0.728585  5.441210e+11   14845.353950  \n",
       "2016-01-01         0.739731  5.558431e+11   14554.688385  \n",
       "2017-01-01         0.725722  5.733505e+11   15261.138395  \n",
       "2018-01-01         0.728998  6.305931e+11   15713.219376  \n",
       "2019-01-01         0.720157  6.305627e+11   16198.771355  \n",
       "2020-01-01         0.723507  7.522713e+11   16556.227139  \n",
       "2021-01-01         0.724696  8.065956e+11   18352.824530  "
      ]
     },
     "execution_count": 65,
     "metadata": {},
     "output_type": "execute_result"
    }
   ],
   "source": [
    "# checking the index \n",
    "df_sub.head(100)"
   ]
  },
  {
   "cell_type": "markdown",
   "id": "62d08c20",
   "metadata": {},
   "source": [
    "## 2.3 Ploting the Line Graph"
   ]
  },
  {
   "cell_type": "code",
   "execution_count": 66,
   "id": "773a1dc3",
   "metadata": {},
   "outputs": [
    {
     "data": {
      "text/plain": [
       "[<matplotlib.lines.Line2D at 0x15be6b28310>]"
      ]
     },
     "execution_count": 66,
     "metadata": {},
     "output_type": "execute_result"
    },
    {
     "data": {
      "image/png": "[encoded data removed]",
      "text/plain": [
       "<Figure size 1500x500 with 1 Axes>"
      ]
     },
     "metadata": {},
     "output_type": "display_data"
    }
   ],
   "source": [
    "# creating happiness time series line chart\n",
    "plt.figure(figsize = (15,5))\n",
    "plt.plot(df_sub['happiness_score'])"
   ]
  },
  {
   "cell_type": "markdown",
   "id": "882f9d0e",
   "metadata": {},
   "source": [
    "## 2.4. Decomposing the Components"
   ]
  },
  {
   "cell_type": "code",
   "execution_count": 67,
   "id": "8709d2f9",
   "metadata": {},
   "outputs": [],
   "source": [
    "# decomposing using the additive model\n",
    "decomp = sm.tsa.seasonal_decompose(df_sub['happiness_score'], model = 'additive')"
   ]
  },
  {
   "cell_type": "code",
   "execution_count": 68,
   "id": "98268417",
   "metadata": {},
   "outputs": [],
   "source": [
    "# setting the figure size\n",
    "from pylab import rcParams\n",
    "\n",
    "rcParams['figure.figsize'] = 18, 7"
   ]
  },
  {
   "cell_type": "code",
   "execution_count": 69,
   "id": "08b7e589",
   "metadata": {},
   "outputs": [
    {
     "data": {
      "image/png": "[encoded data removed]",
      "text/plain": [
       "<Figure size 1800x700 with 4 Axes>"
      ]
     },
     "metadata": {},
     "output_type": "display_data"
    }
   ],
   "source": [
    "# plotting the decomposed components \n",
    "decomp.plot()\n",
    "plt.show()"
   ]
  },
  {
   "cell_type": "markdown",
   "id": "bc011869",
   "metadata": {},
   "source": [
    "Aside from a major drop from 2005 to 2006, the importmation seems relatively stationary. In addition, there is virtually no seasonality or noise. Thus the trend line looks the same as the level"
   ]
  },
  {
   "cell_type": "markdown",
   "id": "a43cc525",
   "metadata": {},
   "source": [
    "# 3. Dickey-Fuller Test for Stationarity"
   ]
  },
  {
   "cell_type": "code",
   "execution_count": 70,
   "id": "ae0d3ff3",
   "metadata": {},
   "outputs": [],
   "source": [
    "# importing library\n",
    "from statsmodels.tsa.stattools import adfuller "
   ]
  },
  {
   "cell_type": "code",
   "execution_count": 71,
   "id": "61208eb1",
   "metadata": {},
   "outputs": [],
   "source": [
    "# creating dickey_fuller function\n",
    "def dickey_fuller(timeseries):\n",
    "    print('Dickey-Fuller Stationarity Test:')\n",
    "    test = adfuller(timeseries, autolag = 'AIC')\n",
    "    result = pd.Series(test[0:4], index = ['Test Statistic', 'p-value', 'Number of Lags Used', 'Number of Observations Used'])\n",
    "    for key,value in test[4].items():\n",
    "        result['Critical Value (%s)'%key] = value\n",
    "    print(result)"
   ]
  },
  {
   "cell_type": "code",
   "execution_count": 72,
   "id": "80eb7ad5",
   "metadata": {},
   "outputs": [
    {
     "name": "stdout",
     "output_type": "stream",
     "text": [
      "Dickey-Fuller Stationarity Test:\n",
      "Test Statistic                 -0.568983\n",
      "p-value                         0.877838\n",
      "Number of Lags Used             3.000000\n",
      "Number of Observations Used    13.000000\n",
      "Critical Value (1%)            -4.068854\n",
      "Critical Value (5%)            -3.127149\n",
      "Critical Value (10%)           -2.701730\n",
      "dtype: float64\n"
     ]
    }
   ],
   "source": [
    "# applying dickey_fuller func\n",
    "dickey_fuller(df_sub['happiness_score'])"
   ]
  },
  {
   "cell_type": "markdown",
   "id": "cbe5eec6",
   "metadata": {},
   "source": [
    "###### null hypothesis: There is a unit root"
   ]
  },
  {
   "cell_type": "markdown",
   "id": "f41d5ddc",
   "metadata": {},
   "source": [
    "The test statistics is greater than the critical values; thus, the null hypothesis cannot be rejected. I will conduct a round of differencing and try again."
   ]
  },
  {
   "cell_type": "markdown",
   "id": "199f7d52",
   "metadata": {},
   "source": [
    "## 3.2. Differencing Round 1"
   ]
  },
  {
   "cell_type": "code",
   "execution_count": 73,
   "id": "6ea93bd7",
   "metadata": {},
   "outputs": [],
   "source": [
    "# returning t - 1\n",
    "df_diff = df_sub['happiness_score'] -df_sub['happiness_score'].shift(1)"
   ]
  },
  {
   "cell_type": "code",
   "execution_count": 74,
   "id": "5c105b03",
   "metadata": {},
   "outputs": [],
   "source": [
    "# dropping nan values\n",
    "df_diff.dropna(inplace = True)"
   ]
  },
  {
   "cell_type": "code",
   "execution_count": 75,
   "id": "7fd706d2",
   "metadata": {},
   "outputs": [
    {
     "data": {
      "text/html": [
       "<div>\n",
       "<style scoped>\n",
       "    .dataframe tbody tr th:only-of-type {\n",
       "        vertical-align: middle;\n",
       "    }\n",
       "\n",
       "    .dataframe tbody tr th {\n",
       "        vertical-align: top;\n",
       "    }\n",
       "\n",
       "    .dataframe thead th {\n",
       "        text-align: right;\n",
       "    }\n",
       "</style>\n",
       "<table border=\"1\" class=\"dataframe\">\n",
       "  <thead>\n",
       "    <tr style=\"text-align: right;\">\n",
       "      <th></th>\n",
       "      <th>mean</th>\n",
       "    </tr>\n",
       "    <tr>\n",
       "      <th>datetime</th>\n",
       "      <th></th>\n",
       "    </tr>\n",
       "  </thead>\n",
       "  <tbody>\n",
       "    <tr>\n",
       "      <th>2006-01-01</th>\n",
       "      <td>-1.341230</td>\n",
       "    </tr>\n",
       "    <tr>\n",
       "      <th>2007-01-01</th>\n",
       "      <td>0.257812</td>\n",
       "    </tr>\n",
       "    <tr>\n",
       "      <th>2008-01-01</th>\n",
       "      <td>0.022732</td>\n",
       "    </tr>\n",
       "    <tr>\n",
       "      <th>2009-01-01</th>\n",
       "      <td>0.042705</td>\n",
       "    </tr>\n",
       "    <tr>\n",
       "      <th>2010-01-01</th>\n",
       "      <td>-0.001115</td>\n",
       "    </tr>\n",
       "  </tbody>\n",
       "</table>\n",
       "</div>"
      ],
      "text/plain": [
       "                mean\n",
       "datetime            \n",
       "2006-01-01 -1.341230\n",
       "2007-01-01  0.257812\n",
       "2008-01-01  0.022732\n",
       "2009-01-01  0.042705\n",
       "2010-01-01 -0.001115"
      ]
     },
     "execution_count": 75,
     "metadata": {},
     "output_type": "execute_result"
    }
   ],
   "source": [
    "# checking the df\n",
    "df_diff.head()"
   ]
  },
  {
   "cell_type": "code",
   "execution_count": 76,
   "id": "38d88650",
   "metadata": {},
   "outputs": [
    {
     "data": {
      "text/plain": [
       "[<matplotlib.lines.Line2D at 0x15be81de940>]"
      ]
     },
     "execution_count": 76,
     "metadata": {},
     "output_type": "execute_result"
    },
    {
     "data": {
      "image/png": "[encoded data removed]",
      "text/plain": [
       "<Figure size 1500x500 with 1 Axes>"
      ]
     },
     "metadata": {},
     "output_type": "display_data"
    }
   ],
   "source": [
    "# checking stationarity visually\n",
    "plt.figure(figsize = (15,5))\n",
    "plt.plot(df_diff)"
   ]
  },
  {
   "cell_type": "code",
   "execution_count": 77,
   "id": "7880f1e0",
   "metadata": {},
   "outputs": [
    {
     "name": "stdout",
     "output_type": "stream",
     "text": [
      "Dickey-Fuller Stationarity Test:\n",
      "Test Statistic                -3.571529\n",
      "p-value                        0.006329\n",
      "Number of Lags Used            6.000000\n",
      "Number of Observations Used    9.000000\n",
      "Critical Value (1%)           -4.473135\n",
      "Critical Value (5%)           -3.289881\n",
      "Critical Value (10%)          -2.772382\n",
      "dtype: float64\n"
     ]
    }
   ],
   "source": [
    "# checking stationarity analytically\n",
    "dickey_fuller(df_diff)"
   ]
  },
  {
   "cell_type": "markdown",
   "id": "ab00a407",
   "metadata": {},
   "source": [
    "The test statistics is less then the 1% critical value. Meaning I can reject the null hypothesis. I will check for autocorrelation to be sure"
   ]
  },
  {
   "cell_type": "markdown",
   "id": "05a8ad42",
   "metadata": {},
   "source": [
    "# 4. Autocorrelation"
   ]
  },
  {
   "cell_type": "code",
   "execution_count": 78,
   "id": "e06b488d",
   "metadata": {},
   "outputs": [
    {
     "data": {
      "image/png": "[encoded data removed]",
      "text/plain": [
       "<Figure size 1800x700 with 1 Axes>"
      ]
     },
     "metadata": {},
     "output_type": "display_data"
    }
   ],
   "source": [
    "from statsmodels.graphics.tsaplots import plot_acf, plot_pacf\n",
    "plot_acf(df_diff)\n",
    "plt.show()"
   ]
  },
  {
   "cell_type": "markdown",
   "id": "99807bc4",
   "metadata": {},
   "source": [
    "There is only one significant lag, therefore the data is stationary. "
   ]
  },
  {
   "cell_type": "markdown",
   "id": "94c3b0df",
   "metadata": {},
   "source": [
    "# 5. Bonus Investigation"
   ]
  },
  {
   "cell_type": "markdown",
   "id": "a6cea4fb",
   "metadata": {},
   "source": [
    "I suspect that something is fishy about the 2005 data. I will invesigate my suspicion in this section. "
   ]
  },
  {
   "cell_type": "code",
   "execution_count": 79,
   "id": "8997d06e",
   "metadata": {},
   "outputs": [
    {
     "data": {
      "text/plain": [
       "2017    130\n",
       "2011    129\n",
       "2014    129\n",
       "2019    128\n",
       "2015    127\n",
       "2016    126\n",
       "2018    126\n",
       "2012    124\n",
       "2013    121\n",
       "2010    111\n",
       "2021    109\n",
       "2020    103\n",
       "2009    102\n",
       "2008     98\n",
       "2007     93\n",
       "2006     80\n",
       "2005     23\n",
       "Name: year, dtype: int64"
      ]
     },
     "execution_count": 79,
     "metadata": {},
     "output_type": "execute_result"
    }
   ],
   "source": [
    "# checking orginal entries to make sure there wasn't a drastic change in the number of countries reporting from 2005 to 2006\n",
    "df_whia_rel['year'].value_counts()"
   ]
  },
  {
   "cell_type": "markdown",
   "id": "1d96801e",
   "metadata": {},
   "source": [
    "The number reporting countries nearly triples from 2005 to 2006. I believe it would be safe to disregard information from 2005 in this time series analysis due to the small and possible misrepresentative dataset."
   ]
  },
  {
   "cell_type": "markdown",
   "id": "40bcb393",
   "metadata": {},
   "source": [
    "## 5.1. Checking Stationarity with 2005"
   ]
  },
  {
   "cell_type": "code",
   "execution_count": 80,
   "id": "f70fdb04",
   "metadata": {},
   "outputs": [],
   "source": [
    "# dropping 2005\n",
    "df_no_05 = df_sub.drop(labels = '2005', axis = 0)"
   ]
  },
  {
   "cell_type": "code",
   "execution_count": 81,
   "id": "ea484cce",
   "metadata": {},
   "outputs": [
    {
     "data": {
      "text/html": [
       "<div>\n",
       "<style scoped>\n",
       "    .dataframe tbody tr th:only-of-type {\n",
       "        vertical-align: middle;\n",
       "    }\n",
       "\n",
       "    .dataframe tbody tr th {\n",
       "        vertical-align: top;\n",
       "    }\n",
       "\n",
       "    .dataframe thead tr th {\n",
       "        text-align: left;\n",
       "    }\n",
       "\n",
       "    .dataframe thead tr:last-of-type th {\n",
       "        text-align: right;\n",
       "    }\n",
       "</style>\n",
       "<table border=\"1\" class=\"dataframe\">\n",
       "  <thead>\n",
       "    <tr>\n",
       "      <th></th>\n",
       "      <th>happiness_score</th>\n",
       "      <th>log_gdp_score</th>\n",
       "      <th>social_support_score</th>\n",
       "      <th>life_expectancy_at_birth</th>\n",
       "      <th>freedom_score</th>\n",
       "      <th>generosity_score</th>\n",
       "      <th>corruption_score</th>\n",
       "      <th>gdp_usd</th>\n",
       "      <th>gdp_capita_usd</th>\n",
       "    </tr>\n",
       "    <tr>\n",
       "      <th></th>\n",
       "      <th>mean</th>\n",
       "      <th>mean</th>\n",
       "      <th>mean</th>\n",
       "      <th>mean</th>\n",
       "      <th>mean</th>\n",
       "      <th>mean</th>\n",
       "      <th>mean</th>\n",
       "      <th>mean</th>\n",
       "      <th>mean</th>\n",
       "    </tr>\n",
       "    <tr>\n",
       "      <th>datetime</th>\n",
       "      <th></th>\n",
       "      <th></th>\n",
       "      <th></th>\n",
       "      <th></th>\n",
       "      <th></th>\n",
       "      <th></th>\n",
       "      <th></th>\n",
       "      <th></th>\n",
       "      <th></th>\n",
       "    </tr>\n",
       "  </thead>\n",
       "  <tbody>\n",
       "    <tr>\n",
       "      <th>2006-01-01</th>\n",
       "      <td>5.178841</td>\n",
       "      <td>9.017771</td>\n",
       "      <td>0.833216</td>\n",
       "      <td>59.780750</td>\n",
       "      <td>0.733488</td>\n",
       "      <td>0.002766</td>\n",
       "      <td>0.753070</td>\n",
       "      <td>3.192610e+11</td>\n",
       "      <td>9584.741083</td>\n",
       "    </tr>\n",
       "    <tr>\n",
       "      <th>2007-01-01</th>\n",
       "      <td>5.436653</td>\n",
       "      <td>9.194647</td>\n",
       "      <td>0.808781</td>\n",
       "      <td>61.516716</td>\n",
       "      <td>0.692376</td>\n",
       "      <td>0.012341</td>\n",
       "      <td>0.787356</td>\n",
       "      <td>5.110201e+11</td>\n",
       "      <td>10613.865755</td>\n",
       "    </tr>\n",
       "    <tr>\n",
       "      <th>2008-01-01</th>\n",
       "      <td>5.459385</td>\n",
       "      <td>9.158063</td>\n",
       "      <td>0.787268</td>\n",
       "      <td>60.984434</td>\n",
       "      <td>0.693788</td>\n",
       "      <td>0.021365</td>\n",
       "      <td>0.764754</td>\n",
       "      <td>5.641483e+11</td>\n",
       "      <td>14152.255460</td>\n",
       "    </tr>\n",
       "    <tr>\n",
       "      <th>2009-01-01</th>\n",
       "      <td>5.502089</td>\n",
       "      <td>9.309361</td>\n",
       "      <td>0.820121</td>\n",
       "      <td>62.721319</td>\n",
       "      <td>0.690621</td>\n",
       "      <td>-0.003424</td>\n",
       "      <td>0.763477</td>\n",
       "      <td>5.071872e+11</td>\n",
       "      <td>12943.130407</td>\n",
       "    </tr>\n",
       "    <tr>\n",
       "      <th>2010-01-01</th>\n",
       "      <td>5.500975</td>\n",
       "      <td>9.383516</td>\n",
       "      <td>0.827932</td>\n",
       "      <td>62.755807</td>\n",
       "      <td>0.711969</td>\n",
       "      <td>0.005430</td>\n",
       "      <td>0.755926</td>\n",
       "      <td>5.363380e+11</td>\n",
       "      <td>14491.754669</td>\n",
       "    </tr>\n",
       "    <tr>\n",
       "      <th>2011-01-01</th>\n",
       "      <td>5.456457</td>\n",
       "      <td>9.303153</td>\n",
       "      <td>0.806033</td>\n",
       "      <td>61.993446</td>\n",
       "      <td>0.734354</td>\n",
       "      <td>-0.017920</td>\n",
       "      <td>0.755429</td>\n",
       "      <td>5.106846e+11</td>\n",
       "      <td>14758.705741</td>\n",
       "    </tr>\n",
       "    <tr>\n",
       "      <th>2012-01-01</th>\n",
       "      <td>5.488865</td>\n",
       "      <td>9.421068</td>\n",
       "      <td>0.812938</td>\n",
       "      <td>63.133021</td>\n",
       "      <td>0.716946</td>\n",
       "      <td>-0.001875</td>\n",
       "      <td>0.755991</td>\n",
       "      <td>5.524920e+11</td>\n",
       "      <td>16260.855534</td>\n",
       "    </tr>\n",
       "    <tr>\n",
       "      <th>2013-01-01</th>\n",
       "      <td>5.441522</td>\n",
       "      <td>9.408813</td>\n",
       "      <td>0.809846</td>\n",
       "      <td>63.305740</td>\n",
       "      <td>0.740911</td>\n",
       "      <td>0.004211</td>\n",
       "      <td>0.754514</td>\n",
       "      <td>5.710000e+11</td>\n",
       "      <td>15364.390717</td>\n",
       "    </tr>\n",
       "    <tr>\n",
       "      <th>2014-01-01</th>\n",
       "      <td>5.408169</td>\n",
       "      <td>9.369693</td>\n",
       "      <td>0.807444</td>\n",
       "      <td>63.196082</td>\n",
       "      <td>0.740892</td>\n",
       "      <td>0.021827</td>\n",
       "      <td>0.732804</td>\n",
       "      <td>5.583360e+11</td>\n",
       "      <td>15644.006433</td>\n",
       "    </tr>\n",
       "    <tr>\n",
       "      <th>2015-01-01</th>\n",
       "      <td>5.447037</td>\n",
       "      <td>9.423666</td>\n",
       "      <td>0.801972</td>\n",
       "      <td>63.569249</td>\n",
       "      <td>0.758079</td>\n",
       "      <td>0.023450</td>\n",
       "      <td>0.728585</td>\n",
       "      <td>5.441210e+11</td>\n",
       "      <td>14845.353950</td>\n",
       "    </tr>\n",
       "    <tr>\n",
       "      <th>2016-01-01</th>\n",
       "      <td>5.430959</td>\n",
       "      <td>9.410524</td>\n",
       "      <td>0.811750</td>\n",
       "      <td>63.534481</td>\n",
       "      <td>0.770886</td>\n",
       "      <td>0.003810</td>\n",
       "      <td>0.739731</td>\n",
       "      <td>5.558431e+11</td>\n",
       "      <td>14554.688385</td>\n",
       "    </tr>\n",
       "    <tr>\n",
       "      <th>2017-01-01</th>\n",
       "      <td>5.508849</td>\n",
       "      <td>9.441186</td>\n",
       "      <td>0.807611</td>\n",
       "      <td>63.743420</td>\n",
       "      <td>0.787266</td>\n",
       "      <td>-0.007266</td>\n",
       "      <td>0.725722</td>\n",
       "      <td>5.733505e+11</td>\n",
       "      <td>15261.138395</td>\n",
       "    </tr>\n",
       "    <tr>\n",
       "      <th>2018-01-01</th>\n",
       "      <td>5.535605</td>\n",
       "      <td>9.434593</td>\n",
       "      <td>0.814306</td>\n",
       "      <td>63.992814</td>\n",
       "      <td>0.791929</td>\n",
       "      <td>-0.027817</td>\n",
       "      <td>0.728998</td>\n",
       "      <td>6.305931e+11</td>\n",
       "      <td>15713.219376</td>\n",
       "    </tr>\n",
       "    <tr>\n",
       "      <th>2019-01-01</th>\n",
       "      <td>5.602535</td>\n",
       "      <td>9.502058</td>\n",
       "      <td>0.818534</td>\n",
       "      <td>64.301520</td>\n",
       "      <td>0.801632</td>\n",
       "      <td>-0.025367</td>\n",
       "      <td>0.720157</td>\n",
       "      <td>6.305627e+11</td>\n",
       "      <td>16198.771355</td>\n",
       "    </tr>\n",
       "    <tr>\n",
       "      <th>2020-01-01</th>\n",
       "      <td>5.746248</td>\n",
       "      <td>9.634792</td>\n",
       "      <td>0.826520</td>\n",
       "      <td>65.640481</td>\n",
       "      <td>0.814778</td>\n",
       "      <td>-0.003795</td>\n",
       "      <td>0.723507</td>\n",
       "      <td>7.522713e+11</td>\n",
       "      <td>16556.227139</td>\n",
       "    </tr>\n",
       "    <tr>\n",
       "      <th>2021-01-01</th>\n",
       "      <td>5.658143</td>\n",
       "      <td>9.592389</td>\n",
       "      <td>0.805887</td>\n",
       "      <td>65.463712</td>\n",
       "      <td>0.792602</td>\n",
       "      <td>0.035144</td>\n",
       "      <td>0.724696</td>\n",
       "      <td>8.065956e+11</td>\n",
       "      <td>18352.824530</td>\n",
       "    </tr>\n",
       "  </tbody>\n",
       "</table>\n",
       "</div>"
      ],
      "text/plain": [
       "           happiness_score log_gdp_score social_support_score  \\\n",
       "                      mean          mean                 mean   \n",
       "datetime                                                        \n",
       "2006-01-01        5.178841      9.017771             0.833216   \n",
       "2007-01-01        5.436653      9.194647             0.808781   \n",
       "2008-01-01        5.459385      9.158063             0.787268   \n",
       "2009-01-01        5.502089      9.309361             0.820121   \n",
       "2010-01-01        5.500975      9.383516             0.827932   \n",
       "2011-01-01        5.456457      9.303153             0.806033   \n",
       "2012-01-01        5.488865      9.421068             0.812938   \n",
       "2013-01-01        5.441522      9.408813             0.809846   \n",
       "2014-01-01        5.408169      9.369693             0.807444   \n",
       "2015-01-01        5.447037      9.423666             0.801972   \n",
       "2016-01-01        5.430959      9.410524             0.811750   \n",
       "2017-01-01        5.508849      9.441186             0.807611   \n",
       "2018-01-01        5.535605      9.434593             0.814306   \n",
       "2019-01-01        5.602535      9.502058             0.818534   \n",
       "2020-01-01        5.746248      9.634792             0.826520   \n",
       "2021-01-01        5.658143      9.592389             0.805887   \n",
       "\n",
       "           life_expectancy_at_birth freedom_score generosity_score  \\\n",
       "                               mean          mean             mean   \n",
       "datetime                                                             \n",
       "2006-01-01                59.780750      0.733488         0.002766   \n",
       "2007-01-01                61.516716      0.692376         0.012341   \n",
       "2008-01-01                60.984434      0.693788         0.021365   \n",
       "2009-01-01                62.721319      0.690621        -0.003424   \n",
       "2010-01-01                62.755807      0.711969         0.005430   \n",
       "2011-01-01                61.993446      0.734354        -0.017920   \n",
       "2012-01-01                63.133021      0.716946        -0.001875   \n",
       "2013-01-01                63.305740      0.740911         0.004211   \n",
       "2014-01-01                63.196082      0.740892         0.021827   \n",
       "2015-01-01                63.569249      0.758079         0.023450   \n",
       "2016-01-01                63.534481      0.770886         0.003810   \n",
       "2017-01-01                63.743420      0.787266        -0.007266   \n",
       "2018-01-01                63.992814      0.791929        -0.027817   \n",
       "2019-01-01                64.301520      0.801632        -0.025367   \n",
       "2020-01-01                65.640481      0.814778        -0.003795   \n",
       "2021-01-01                65.463712      0.792602         0.035144   \n",
       "\n",
       "           corruption_score       gdp_usd gdp_capita_usd  \n",
       "                       mean          mean           mean  \n",
       "datetime                                                  \n",
       "2006-01-01         0.753070  3.192610e+11    9584.741083  \n",
       "2007-01-01         0.787356  5.110201e+11   10613.865755  \n",
       "2008-01-01         0.764754  5.641483e+11   14152.255460  \n",
       "2009-01-01         0.763477  5.071872e+11   12943.130407  \n",
       "2010-01-01         0.755926  5.363380e+11   14491.754669  \n",
       "2011-01-01         0.755429  5.106846e+11   14758.705741  \n",
       "2012-01-01         0.755991  5.524920e+11   16260.855534  \n",
       "2013-01-01         0.754514  5.710000e+11   15364.390717  \n",
       "2014-01-01         0.732804  5.583360e+11   15644.006433  \n",
       "2015-01-01         0.728585  5.441210e+11   14845.353950  \n",
       "2016-01-01         0.739731  5.558431e+11   14554.688385  \n",
       "2017-01-01         0.725722  5.733505e+11   15261.138395  \n",
       "2018-01-01         0.728998  6.305931e+11   15713.219376  \n",
       "2019-01-01         0.720157  6.305627e+11   16198.771355  \n",
       "2020-01-01         0.723507  7.522713e+11   16556.227139  \n",
       "2021-01-01         0.724696  8.065956e+11   18352.824530  "
      ]
     },
     "execution_count": 81,
     "metadata": {},
     "output_type": "execute_result"
    }
   ],
   "source": [
    "# checking the new df\n",
    "df_no_05"
   ]
  },
  {
   "cell_type": "code",
   "execution_count": 82,
   "id": "67a4589c",
   "metadata": {},
   "outputs": [
    {
     "data": {
      "text/plain": [
       "[<matplotlib.lines.Line2D at 0x15be82c8760>]"
      ]
     },
     "execution_count": 82,
     "metadata": {},
     "output_type": "execute_result"
    },
    {
     "data": {
      "image/png": "[encoded data removed]",
      "text/plain": [
       "<Figure size 1500x500 with 1 Axes>"
      ]
     },
     "metadata": {},
     "output_type": "display_data"
    }
   ],
   "source": [
    "# visually checing the stationarity\n",
    "plt.figure(figsize = (15,5))\n",
    "plt.plot(df_no_05['happiness_score'])"
   ]
  },
  {
   "cell_type": "code",
   "execution_count": 83,
   "id": "bb8aa8eb",
   "metadata": {},
   "outputs": [
    {
     "name": "stdout",
     "output_type": "stream",
     "text": [
      "Dickey-Fuller Stationarity Test:\n",
      "Test Statistic                -3.739018\n",
      "p-value                        0.003597\n",
      "Number of Lags Used            6.000000\n",
      "Number of Observations Used    9.000000\n",
      "Critical Value (1%)           -4.473135\n",
      "Critical Value (5%)           -3.289881\n",
      "Critical Value (10%)          -2.772382\n",
      "dtype: float64\n"
     ]
    }
   ],
   "source": [
    "# checking stationarity analytically\n",
    "dickey_fuller(df_no_05['happiness_score'])"
   ]
  },
  {
   "cell_type": "markdown",
   "id": "2ae22d12",
   "metadata": {},
   "source": [
    "The test statistic is less than the critical value for the 1% signifance level and the p-value is satisfactory. Thus, the data is stationary. I will now check for autocorrelation to ensure my data is stationary. "
   ]
  },
  {
   "cell_type": "code",
   "execution_count": 84,
   "id": "5a932b28",
   "metadata": {},
   "outputs": [
    {
     "data": {
      "image/png": "[encoded data removed]",
      "text/plain": [
       "<Figure size 1800x700 with 1 Axes>"
      ]
     },
     "metadata": {},
     "output_type": "display_data"
    }
   ],
   "source": [
    "plot_acf(df_no_05['happiness_score'])\n",
    "plt.show()"
   ]
  },
  {
   "cell_type": "markdown",
   "id": "dea8da34",
   "metadata": {},
   "source": [
    "There is only 1 significant lag, so the data is stationary."
   ]
  },
  {
   "cell_type": "markdown",
   "id": "e639b452",
   "metadata": {},
   "source": [
    "## 5.2 Checking Orginal Stationarity"
   ]
  },
  {
   "cell_type": "code",
   "execution_count": 85,
   "id": "afe43ef7",
   "metadata": {},
   "outputs": [
    {
     "data": {
      "image/png": "[encoded data removed]",
      "text/plain": [
       "<Figure size 1800x700 with 1 Axes>"
      ]
     },
     "metadata": {},
     "output_type": "display_data"
    }
   ],
   "source": [
    "plot_acf(df_sub['happiness_score'])\n",
    "plt.show()"
   ]
  },
  {
   "cell_type": "code",
   "execution_count": null,
   "id": "210f890d",
   "metadata": {},
   "outputs": [],
   "source": []
  },
  {
   "cell_type": "code",
   "execution_count": null,
   "id": "7ec37858",
   "metadata": {},
   "outputs": [],
   "source": []
  },
  {
   "cell_type": "code",
   "execution_count": null,
   "id": "758b97c2",
   "metadata": {},
   "outputs": [],
   "source": []
  }
 ],
 "metadata": {
  "kernelspec": {
   "display_name": "Python 3 (ipykernel)",
   "language": "python",
   "name": "python3"
  },
  "language_info": {
   "codemirror_mode": {
    "name": "ipython",
    "version": 3
   },
   "file_extension": ".py",
   "mimetype": "text/x-python",
   "name": "python",
   "nbconvert_exporter": "python",
   "pygments_lexer": "ipython3",
   "version": "3.9.13"
  }
 },
 "nbformat": 4,
 "nbformat_minor": 5
}
